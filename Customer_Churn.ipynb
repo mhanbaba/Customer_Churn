{
 "cells": [
  {
   "cell_type": "markdown",
   "id": "5cb500b6-6c9c-474c-bf11-98d3de38dc3b",
   "metadata": {},
   "source": [
    "# Telco Churn Prediction #"
   ]
  },
  {
   "cell_type": "markdown",
   "id": "c70dbcbb-91dd-4199-92bd-c9c635701d66",
   "metadata": {},
   "source": [
    "## Data Set Story"
   ]
  },
  {
   "cell_type": "markdown",
   "id": "d20a639e-3863-46e7-b480-7d76e94fd0e5",
   "metadata": {},
   "source": [
    " Telco churn data includes information about an imaginary telecom company that provided home phone and Internet services to 7,043 California customers in the third quarter. Shows which customers have left, stayed or signed up for their service"
   ]
  },
  {
   "cell_type": "markdown",
   "id": "d63b24bd-9512-44fc-a153-f1e61270a9f2",
   "metadata": {},
   "source": [
    "## Problem"
   ]
  },
  {
   "cell_type": "markdown",
   "id": "32ec8f35-409c-4a87-a9da-3c18facb706e",
   "metadata": {},
   "source": [
    "It is expected to create a machine learning model that can predict customers who will leave the company."
   ]
  },
  {
   "cell_type": "code",
   "execution_count": 1,
   "id": "ad3f6936-71a3-40e1-ba59-864b65fe69ea",
   "metadata": {},
   "outputs": [],
   "source": [
    "import numpy as np\n",
    "import pandas as pd\n",
    "import seaborn as sns\n",
    "from matplotlib import pyplot as plt\n",
    "from sklearn.tree import DecisionTreeClassifier, export_graphviz, export_text\n",
    "from sklearn.metrics import classification_report, roc_auc_score\n",
    "from sklearn.model_selection import train_test_split, GridSearchCV, cross_validate, validation_curve"
   ]
  },
  {
   "cell_type": "code",
   "execution_count": 2,
   "id": "68500c15-2a78-499b-939e-f058a29bf85e",
   "metadata": {},
   "outputs": [],
   "source": [
    "df=pd.read_csv(r\"C:\\Users\\muhammedhanbaba\\OneDrive - Ege Üniversitesi\\Masaüstü\\Telco-Customer-Churn.csv\")"
   ]
  },
  {
   "cell_type": "code",
   "execution_count": 3,
   "id": "dd32c5b3-048a-47e0-9be6-21ec77903084",
   "metadata": {},
   "outputs": [
    {
     "data": {
      "text/html": [
       "<div>\n",
       "<style scoped>\n",
       "    .dataframe tbody tr th:only-of-type {\n",
       "        vertical-align: middle;\n",
       "    }\n",
       "\n",
       "    .dataframe tbody tr th {\n",
       "        vertical-align: top;\n",
       "    }\n",
       "\n",
       "    .dataframe thead th {\n",
       "        text-align: right;\n",
       "    }\n",
       "</style>\n",
       "<table border=\"1\" class=\"dataframe\">\n",
       "  <thead>\n",
       "    <tr style=\"text-align: right;\">\n",
       "      <th></th>\n",
       "      <th>customerID</th>\n",
       "      <th>gender</th>\n",
       "      <th>SeniorCitizen</th>\n",
       "      <th>Partner</th>\n",
       "      <th>Dependents</th>\n",
       "      <th>tenure</th>\n",
       "      <th>PhoneService</th>\n",
       "      <th>MultipleLines</th>\n",
       "      <th>InternetService</th>\n",
       "      <th>OnlineSecurity</th>\n",
       "      <th>...</th>\n",
       "      <th>DeviceProtection</th>\n",
       "      <th>TechSupport</th>\n",
       "      <th>StreamingTV</th>\n",
       "      <th>StreamingMovies</th>\n",
       "      <th>Contract</th>\n",
       "      <th>PaperlessBilling</th>\n",
       "      <th>PaymentMethod</th>\n",
       "      <th>MonthlyCharges</th>\n",
       "      <th>TotalCharges</th>\n",
       "      <th>Churn</th>\n",
       "    </tr>\n",
       "  </thead>\n",
       "  <tbody>\n",
       "    <tr>\n",
       "      <th>0</th>\n",
       "      <td>7590-VHVEG</td>\n",
       "      <td>Female</td>\n",
       "      <td>0</td>\n",
       "      <td>Yes</td>\n",
       "      <td>No</td>\n",
       "      <td>1</td>\n",
       "      <td>No</td>\n",
       "      <td>No phone service</td>\n",
       "      <td>DSL</td>\n",
       "      <td>No</td>\n",
       "      <td>...</td>\n",
       "      <td>No</td>\n",
       "      <td>No</td>\n",
       "      <td>No</td>\n",
       "      <td>No</td>\n",
       "      <td>Month-to-month</td>\n",
       "      <td>Yes</td>\n",
       "      <td>Electronic check</td>\n",
       "      <td>29.85</td>\n",
       "      <td>29.85</td>\n",
       "      <td>No</td>\n",
       "    </tr>\n",
       "    <tr>\n",
       "      <th>1</th>\n",
       "      <td>5575-GNVDE</td>\n",
       "      <td>Male</td>\n",
       "      <td>0</td>\n",
       "      <td>No</td>\n",
       "      <td>No</td>\n",
       "      <td>34</td>\n",
       "      <td>Yes</td>\n",
       "      <td>No</td>\n",
       "      <td>DSL</td>\n",
       "      <td>Yes</td>\n",
       "      <td>...</td>\n",
       "      <td>Yes</td>\n",
       "      <td>No</td>\n",
       "      <td>No</td>\n",
       "      <td>No</td>\n",
       "      <td>One year</td>\n",
       "      <td>No</td>\n",
       "      <td>Mailed check</td>\n",
       "      <td>56.95</td>\n",
       "      <td>1889.5</td>\n",
       "      <td>No</td>\n",
       "    </tr>\n",
       "    <tr>\n",
       "      <th>2</th>\n",
       "      <td>3668-QPYBK</td>\n",
       "      <td>Male</td>\n",
       "      <td>0</td>\n",
       "      <td>No</td>\n",
       "      <td>No</td>\n",
       "      <td>2</td>\n",
       "      <td>Yes</td>\n",
       "      <td>No</td>\n",
       "      <td>DSL</td>\n",
       "      <td>Yes</td>\n",
       "      <td>...</td>\n",
       "      <td>No</td>\n",
       "      <td>No</td>\n",
       "      <td>No</td>\n",
       "      <td>No</td>\n",
       "      <td>Month-to-month</td>\n",
       "      <td>Yes</td>\n",
       "      <td>Mailed check</td>\n",
       "      <td>53.85</td>\n",
       "      <td>108.15</td>\n",
       "      <td>Yes</td>\n",
       "    </tr>\n",
       "    <tr>\n",
       "      <th>3</th>\n",
       "      <td>7795-CFOCW</td>\n",
       "      <td>Male</td>\n",
       "      <td>0</td>\n",
       "      <td>No</td>\n",
       "      <td>No</td>\n",
       "      <td>45</td>\n",
       "      <td>No</td>\n",
       "      <td>No phone service</td>\n",
       "      <td>DSL</td>\n",
       "      <td>Yes</td>\n",
       "      <td>...</td>\n",
       "      <td>Yes</td>\n",
       "      <td>Yes</td>\n",
       "      <td>No</td>\n",
       "      <td>No</td>\n",
       "      <td>One year</td>\n",
       "      <td>No</td>\n",
       "      <td>Bank transfer (automatic)</td>\n",
       "      <td>42.30</td>\n",
       "      <td>1840.75</td>\n",
       "      <td>No</td>\n",
       "    </tr>\n",
       "    <tr>\n",
       "      <th>4</th>\n",
       "      <td>9237-HQITU</td>\n",
       "      <td>Female</td>\n",
       "      <td>0</td>\n",
       "      <td>No</td>\n",
       "      <td>No</td>\n",
       "      <td>2</td>\n",
       "      <td>Yes</td>\n",
       "      <td>No</td>\n",
       "      <td>Fiber optic</td>\n",
       "      <td>No</td>\n",
       "      <td>...</td>\n",
       "      <td>No</td>\n",
       "      <td>No</td>\n",
       "      <td>No</td>\n",
       "      <td>No</td>\n",
       "      <td>Month-to-month</td>\n",
       "      <td>Yes</td>\n",
       "      <td>Electronic check</td>\n",
       "      <td>70.70</td>\n",
       "      <td>151.65</td>\n",
       "      <td>Yes</td>\n",
       "    </tr>\n",
       "  </tbody>\n",
       "</table>\n",
       "<p>5 rows × 21 columns</p>\n",
       "</div>"
      ],
      "text/plain": [
       "   customerID  gender  SeniorCitizen Partner Dependents  tenure PhoneService  \\\n",
       "0  7590-VHVEG  Female              0     Yes         No       1           No   \n",
       "1  5575-GNVDE    Male              0      No         No      34          Yes   \n",
       "2  3668-QPYBK    Male              0      No         No       2          Yes   \n",
       "3  7795-CFOCW    Male              0      No         No      45           No   \n",
       "4  9237-HQITU  Female              0      No         No       2          Yes   \n",
       "\n",
       "      MultipleLines InternetService OnlineSecurity  ... DeviceProtection  \\\n",
       "0  No phone service             DSL             No  ...               No   \n",
       "1                No             DSL            Yes  ...              Yes   \n",
       "2                No             DSL            Yes  ...               No   \n",
       "3  No phone service             DSL            Yes  ...              Yes   \n",
       "4                No     Fiber optic             No  ...               No   \n",
       "\n",
       "  TechSupport StreamingTV StreamingMovies        Contract PaperlessBilling  \\\n",
       "0          No          No              No  Month-to-month              Yes   \n",
       "1          No          No              No        One year               No   \n",
       "2          No          No              No  Month-to-month              Yes   \n",
       "3         Yes          No              No        One year               No   \n",
       "4          No          No              No  Month-to-month              Yes   \n",
       "\n",
       "               PaymentMethod MonthlyCharges  TotalCharges Churn  \n",
       "0           Electronic check          29.85         29.85    No  \n",
       "1               Mailed check          56.95        1889.5    No  \n",
       "2               Mailed check          53.85        108.15   Yes  \n",
       "3  Bank transfer (automatic)          42.30       1840.75    No  \n",
       "4           Electronic check          70.70        151.65   Yes  \n",
       "\n",
       "[5 rows x 21 columns]"
      ]
     },
     "execution_count": 3,
     "metadata": {},
     "output_type": "execute_result"
    }
   ],
   "source": [
    "df.head()"
   ]
  },
  {
   "cell_type": "code",
   "execution_count": 4,
   "id": "2e86c01f-11ca-4e70-b657-b9f5cdfae6ad",
   "metadata": {},
   "outputs": [
    {
     "data": {
      "text/plain": [
       "(7043, 21)"
      ]
     },
     "execution_count": 4,
     "metadata": {},
     "output_type": "execute_result"
    }
   ],
   "source": [
    "df.shape"
   ]
  },
  {
   "cell_type": "code",
   "execution_count": 5,
   "id": "1d418e3b-9553-4d4b-9866-0c98e669c244",
   "metadata": {},
   "outputs": [
    {
     "name": "stdout",
     "output_type": "stream",
     "text": [
      "<class 'pandas.core.frame.DataFrame'>\n",
      "RangeIndex: 7043 entries, 0 to 7042\n",
      "Data columns (total 21 columns):\n",
      " #   Column            Non-Null Count  Dtype  \n",
      "---  ------            --------------  -----  \n",
      " 0   customerID        7043 non-null   object \n",
      " 1   gender            7043 non-null   object \n",
      " 2   SeniorCitizen     7043 non-null   int64  \n",
      " 3   Partner           7043 non-null   object \n",
      " 4   Dependents        7043 non-null   object \n",
      " 5   tenure            7043 non-null   int64  \n",
      " 6   PhoneService      7043 non-null   object \n",
      " 7   MultipleLines     7043 non-null   object \n",
      " 8   InternetService   7043 non-null   object \n",
      " 9   OnlineSecurity    7043 non-null   object \n",
      " 10  OnlineBackup      7043 non-null   object \n",
      " 11  DeviceProtection  7043 non-null   object \n",
      " 12  TechSupport       7043 non-null   object \n",
      " 13  StreamingTV       7043 non-null   object \n",
      " 14  StreamingMovies   7043 non-null   object \n",
      " 15  Contract          7043 non-null   object \n",
      " 16  PaperlessBilling  7043 non-null   object \n",
      " 17  PaymentMethod     7043 non-null   object \n",
      " 18  MonthlyCharges    7043 non-null   float64\n",
      " 19  TotalCharges      7043 non-null   object \n",
      " 20  Churn             7043 non-null   object \n",
      "dtypes: float64(1), int64(2), object(18)\n",
      "memory usage: 1.1+ MB\n"
     ]
    }
   ],
   "source": [
    "df.info()"
   ]
  },
  {
   "cell_type": "code",
   "execution_count": 6,
   "id": "5c87bfb5-e33d-4cbc-a69e-d1fdefc4607f",
   "metadata": {},
   "outputs": [],
   "source": [
    "#I have to change TotalCharges to numeric variable\n",
    "df[\"TotalCharges\"] = pd.to_numeric(df[\"TotalCharges\"], errors='coerce')"
   ]
  },
  {
   "cell_type": "code",
   "execution_count": 7,
   "id": "2df30c1a-d4bf-4a88-8900-d756c054b6dd",
   "metadata": {},
   "outputs": [
    {
     "data": {
      "text/plain": [
       "array(['No', 'Yes'], dtype=object)"
      ]
     },
     "execution_count": 7,
     "metadata": {},
     "output_type": "execute_result"
    }
   ],
   "source": [
    "df[\"Churn\"].unique()"
   ]
  },
  {
   "cell_type": "code",
   "execution_count": 8,
   "id": "02c60882-43c7-4fb3-b810-8844e02dc13d",
   "metadata": {},
   "outputs": [],
   "source": [
    "df[\"Churn\"] = df[\"Churn\"].apply(lambda x: 1 if x == \"Yes\" else 0)"
   ]
  },
  {
   "cell_type": "code",
   "execution_count": 9,
   "id": "cc0193d3-e4dc-465c-afa0-e499116ce89c",
   "metadata": {},
   "outputs": [
    {
     "data": {
      "text/html": [
       "<div>\n",
       "<style scoped>\n",
       "    .dataframe tbody tr th:only-of-type {\n",
       "        vertical-align: middle;\n",
       "    }\n",
       "\n",
       "    .dataframe tbody tr th {\n",
       "        vertical-align: top;\n",
       "    }\n",
       "\n",
       "    .dataframe thead th {\n",
       "        text-align: right;\n",
       "    }\n",
       "</style>\n",
       "<table border=\"1\" class=\"dataframe\">\n",
       "  <thead>\n",
       "    <tr style=\"text-align: right;\">\n",
       "      <th></th>\n",
       "      <th>customerID</th>\n",
       "      <th>gender</th>\n",
       "      <th>SeniorCitizen</th>\n",
       "      <th>Partner</th>\n",
       "      <th>Dependents</th>\n",
       "      <th>tenure</th>\n",
       "      <th>PhoneService</th>\n",
       "      <th>MultipleLines</th>\n",
       "      <th>InternetService</th>\n",
       "      <th>OnlineSecurity</th>\n",
       "      <th>...</th>\n",
       "      <th>DeviceProtection</th>\n",
       "      <th>TechSupport</th>\n",
       "      <th>StreamingTV</th>\n",
       "      <th>StreamingMovies</th>\n",
       "      <th>Contract</th>\n",
       "      <th>PaperlessBilling</th>\n",
       "      <th>PaymentMethod</th>\n",
       "      <th>MonthlyCharges</th>\n",
       "      <th>TotalCharges</th>\n",
       "      <th>Churn</th>\n",
       "    </tr>\n",
       "  </thead>\n",
       "  <tbody>\n",
       "    <tr>\n",
       "      <th>0</th>\n",
       "      <td>7590-VHVEG</td>\n",
       "      <td>Female</td>\n",
       "      <td>0</td>\n",
       "      <td>Yes</td>\n",
       "      <td>No</td>\n",
       "      <td>1</td>\n",
       "      <td>No</td>\n",
       "      <td>No phone service</td>\n",
       "      <td>DSL</td>\n",
       "      <td>No</td>\n",
       "      <td>...</td>\n",
       "      <td>No</td>\n",
       "      <td>No</td>\n",
       "      <td>No</td>\n",
       "      <td>No</td>\n",
       "      <td>Month-to-month</td>\n",
       "      <td>Yes</td>\n",
       "      <td>Electronic check</td>\n",
       "      <td>29.85</td>\n",
       "      <td>29.85</td>\n",
       "      <td>0</td>\n",
       "    </tr>\n",
       "    <tr>\n",
       "      <th>1</th>\n",
       "      <td>5575-GNVDE</td>\n",
       "      <td>Male</td>\n",
       "      <td>0</td>\n",
       "      <td>No</td>\n",
       "      <td>No</td>\n",
       "      <td>34</td>\n",
       "      <td>Yes</td>\n",
       "      <td>No</td>\n",
       "      <td>DSL</td>\n",
       "      <td>Yes</td>\n",
       "      <td>...</td>\n",
       "      <td>Yes</td>\n",
       "      <td>No</td>\n",
       "      <td>No</td>\n",
       "      <td>No</td>\n",
       "      <td>One year</td>\n",
       "      <td>No</td>\n",
       "      <td>Mailed check</td>\n",
       "      <td>56.95</td>\n",
       "      <td>1889.50</td>\n",
       "      <td>0</td>\n",
       "    </tr>\n",
       "    <tr>\n",
       "      <th>2</th>\n",
       "      <td>3668-QPYBK</td>\n",
       "      <td>Male</td>\n",
       "      <td>0</td>\n",
       "      <td>No</td>\n",
       "      <td>No</td>\n",
       "      <td>2</td>\n",
       "      <td>Yes</td>\n",
       "      <td>No</td>\n",
       "      <td>DSL</td>\n",
       "      <td>Yes</td>\n",
       "      <td>...</td>\n",
       "      <td>No</td>\n",
       "      <td>No</td>\n",
       "      <td>No</td>\n",
       "      <td>No</td>\n",
       "      <td>Month-to-month</td>\n",
       "      <td>Yes</td>\n",
       "      <td>Mailed check</td>\n",
       "      <td>53.85</td>\n",
       "      <td>108.15</td>\n",
       "      <td>1</td>\n",
       "    </tr>\n",
       "    <tr>\n",
       "      <th>3</th>\n",
       "      <td>7795-CFOCW</td>\n",
       "      <td>Male</td>\n",
       "      <td>0</td>\n",
       "      <td>No</td>\n",
       "      <td>No</td>\n",
       "      <td>45</td>\n",
       "      <td>No</td>\n",
       "      <td>No phone service</td>\n",
       "      <td>DSL</td>\n",
       "      <td>Yes</td>\n",
       "      <td>...</td>\n",
       "      <td>Yes</td>\n",
       "      <td>Yes</td>\n",
       "      <td>No</td>\n",
       "      <td>No</td>\n",
       "      <td>One year</td>\n",
       "      <td>No</td>\n",
       "      <td>Bank transfer (automatic)</td>\n",
       "      <td>42.30</td>\n",
       "      <td>1840.75</td>\n",
       "      <td>0</td>\n",
       "    </tr>\n",
       "    <tr>\n",
       "      <th>4</th>\n",
       "      <td>9237-HQITU</td>\n",
       "      <td>Female</td>\n",
       "      <td>0</td>\n",
       "      <td>No</td>\n",
       "      <td>No</td>\n",
       "      <td>2</td>\n",
       "      <td>Yes</td>\n",
       "      <td>No</td>\n",
       "      <td>Fiber optic</td>\n",
       "      <td>No</td>\n",
       "      <td>...</td>\n",
       "      <td>No</td>\n",
       "      <td>No</td>\n",
       "      <td>No</td>\n",
       "      <td>No</td>\n",
       "      <td>Month-to-month</td>\n",
       "      <td>Yes</td>\n",
       "      <td>Electronic check</td>\n",
       "      <td>70.70</td>\n",
       "      <td>151.65</td>\n",
       "      <td>1</td>\n",
       "    </tr>\n",
       "  </tbody>\n",
       "</table>\n",
       "<p>5 rows × 21 columns</p>\n",
       "</div>"
      ],
      "text/plain": [
       "   customerID  gender  SeniorCitizen Partner Dependents  tenure PhoneService  \\\n",
       "0  7590-VHVEG  Female              0     Yes         No       1           No   \n",
       "1  5575-GNVDE    Male              0      No         No      34          Yes   \n",
       "2  3668-QPYBK    Male              0      No         No       2          Yes   \n",
       "3  7795-CFOCW    Male              0      No         No      45           No   \n",
       "4  9237-HQITU  Female              0      No         No       2          Yes   \n",
       "\n",
       "      MultipleLines InternetService OnlineSecurity  ... DeviceProtection  \\\n",
       "0  No phone service             DSL             No  ...               No   \n",
       "1                No             DSL            Yes  ...              Yes   \n",
       "2                No             DSL            Yes  ...               No   \n",
       "3  No phone service             DSL            Yes  ...              Yes   \n",
       "4                No     Fiber optic             No  ...               No   \n",
       "\n",
       "  TechSupport StreamingTV StreamingMovies        Contract PaperlessBilling  \\\n",
       "0          No          No              No  Month-to-month              Yes   \n",
       "1          No          No              No        One year               No   \n",
       "2          No          No              No  Month-to-month              Yes   \n",
       "3         Yes          No              No        One year               No   \n",
       "4          No          No              No  Month-to-month              Yes   \n",
       "\n",
       "               PaymentMethod MonthlyCharges  TotalCharges  Churn  \n",
       "0           Electronic check          29.85         29.85      0  \n",
       "1               Mailed check          56.95       1889.50      0  \n",
       "2               Mailed check          53.85        108.15      1  \n",
       "3  Bank transfer (automatic)          42.30       1840.75      0  \n",
       "4           Electronic check          70.70        151.65      1  \n",
       "\n",
       "[5 rows x 21 columns]"
      ]
     },
     "execution_count": 9,
     "metadata": {},
     "output_type": "execute_result"
    }
   ],
   "source": [
    "df.head()"
   ]
  },
  {
   "cell_type": "code",
   "execution_count": 10,
   "id": "6b5b8c90-21ed-4727-88a8-71975deccd52",
   "metadata": {},
   "outputs": [],
   "source": [
    "def check_df(dataframe, head=5):\n",
    "    print(\"##################### Shape #####################\")\n",
    "    print(dataframe.shape)\n",
    "    print(\"##################### Types #####################\")\n",
    "    print(dataframe.dtypes)\n",
    "    print(\"##################### Head #####################\")\n",
    "    print(dataframe.head(head))\n",
    "    print(\"##################### Tail #####################\")\n",
    "    print(dataframe.tail(head))\n",
    "    print(\"##################### NA #####################\")\n",
    "    print(dataframe.isnull().sum())\n",
    "    print(\"##################### Quantiles #####################\")\n",
    "    print(dataframe.quantile([0, 0.05, 0.50, 0.95, 0.99, 1]).T)"
   ]
  },
  {
   "cell_type": "code",
   "execution_count": 11,
   "id": "c4dcdb42-9c5f-424b-8c31-faf987dd2f22",
   "metadata": {},
   "outputs": [
    {
     "name": "stdout",
     "output_type": "stream",
     "text": [
      "##################### Shape #####################\n",
      "(7043, 21)\n",
      "##################### Types #####################\n",
      "customerID           object\n",
      "gender               object\n",
      "SeniorCitizen         int64\n",
      "Partner              object\n",
      "Dependents           object\n",
      "tenure                int64\n",
      "PhoneService         object\n",
      "MultipleLines        object\n",
      "InternetService      object\n",
      "OnlineSecurity       object\n",
      "OnlineBackup         object\n",
      "DeviceProtection     object\n",
      "TechSupport          object\n",
      "StreamingTV          object\n",
      "StreamingMovies      object\n",
      "Contract             object\n",
      "PaperlessBilling     object\n",
      "PaymentMethod        object\n",
      "MonthlyCharges      float64\n",
      "TotalCharges        float64\n",
      "Churn                 int64\n",
      "dtype: object\n",
      "##################### Head #####################\n",
      "   customerID  gender  SeniorCitizen Partner Dependents  tenure PhoneService  \\\n",
      "0  7590-VHVEG  Female              0     Yes         No       1           No   \n",
      "1  5575-GNVDE    Male              0      No         No      34          Yes   \n",
      "2  3668-QPYBK    Male              0      No         No       2          Yes   \n",
      "3  7795-CFOCW    Male              0      No         No      45           No   \n",
      "4  9237-HQITU  Female              0      No         No       2          Yes   \n",
      "\n",
      "      MultipleLines InternetService OnlineSecurity  ... DeviceProtection  \\\n",
      "0  No phone service             DSL             No  ...               No   \n",
      "1                No             DSL            Yes  ...              Yes   \n",
      "2                No             DSL            Yes  ...               No   \n",
      "3  No phone service             DSL            Yes  ...              Yes   \n",
      "4                No     Fiber optic             No  ...               No   \n",
      "\n",
      "  TechSupport StreamingTV StreamingMovies        Contract PaperlessBilling  \\\n",
      "0          No          No              No  Month-to-month              Yes   \n",
      "1          No          No              No        One year               No   \n",
      "2          No          No              No  Month-to-month              Yes   \n",
      "3         Yes          No              No        One year               No   \n",
      "4          No          No              No  Month-to-month              Yes   \n",
      "\n",
      "               PaymentMethod MonthlyCharges  TotalCharges  Churn  \n",
      "0           Electronic check          29.85         29.85      0  \n",
      "1               Mailed check          56.95       1889.50      0  \n",
      "2               Mailed check          53.85        108.15      1  \n",
      "3  Bank transfer (automatic)          42.30       1840.75      0  \n",
      "4           Electronic check          70.70        151.65      1  \n",
      "\n",
      "[5 rows x 21 columns]\n",
      "##################### Tail #####################\n",
      "      customerID  gender  SeniorCitizen Partner Dependents  tenure  \\\n",
      "7038  6840-RESVB    Male              0     Yes        Yes      24   \n",
      "7039  2234-XADUH  Female              0     Yes        Yes      72   \n",
      "7040  4801-JZAZL  Female              0     Yes        Yes      11   \n",
      "7041  8361-LTMKD    Male              1     Yes         No       4   \n",
      "7042  3186-AJIEK    Male              0      No         No      66   \n",
      "\n",
      "     PhoneService     MultipleLines InternetService OnlineSecurity  ...  \\\n",
      "7038          Yes               Yes             DSL            Yes  ...   \n",
      "7039          Yes               Yes     Fiber optic             No  ...   \n",
      "7040           No  No phone service             DSL            Yes  ...   \n",
      "7041          Yes               Yes     Fiber optic             No  ...   \n",
      "7042          Yes                No     Fiber optic            Yes  ...   \n",
      "\n",
      "     DeviceProtection TechSupport StreamingTV StreamingMovies        Contract  \\\n",
      "7038              Yes         Yes         Yes             Yes        One year   \n",
      "7039              Yes          No         Yes             Yes        One year   \n",
      "7040               No          No          No              No  Month-to-month   \n",
      "7041               No          No          No              No  Month-to-month   \n",
      "7042              Yes         Yes         Yes             Yes        Two year   \n",
      "\n",
      "     PaperlessBilling              PaymentMethod MonthlyCharges  TotalCharges  \\\n",
      "7038              Yes               Mailed check          84.80       1990.50   \n",
      "7039              Yes    Credit card (automatic)         103.20       7362.90   \n",
      "7040              Yes           Electronic check          29.60        346.45   \n",
      "7041              Yes               Mailed check          74.40        306.60   \n",
      "7042              Yes  Bank transfer (automatic)         105.65       6844.50   \n",
      "\n",
      "      Churn  \n",
      "7038      0  \n",
      "7039      0  \n",
      "7040      0  \n",
      "7041      1  \n",
      "7042      0  \n",
      "\n",
      "[5 rows x 21 columns]\n",
      "##################### NA #####################\n",
      "customerID           0\n",
      "gender               0\n",
      "SeniorCitizen        0\n",
      "Partner              0\n",
      "Dependents           0\n",
      "tenure               0\n",
      "PhoneService         0\n",
      "MultipleLines        0\n",
      "InternetService      0\n",
      "OnlineSecurity       0\n",
      "OnlineBackup         0\n",
      "DeviceProtection     0\n",
      "TechSupport          0\n",
      "StreamingTV          0\n",
      "StreamingMovies      0\n",
      "Contract             0\n",
      "PaperlessBilling     0\n",
      "PaymentMethod        0\n",
      "MonthlyCharges       0\n",
      "TotalCharges        11\n",
      "Churn                0\n",
      "dtype: int64\n",
      "##################### Quantiles #####################\n",
      "                 0.00    0.05      0.50     0.95      0.99     1.00\n",
      "SeniorCitizen    0.00   0.000     0.000     1.00     1.000     1.00\n",
      "tenure           0.00   1.000    29.000    72.00    72.000    72.00\n",
      "MonthlyCharges  18.25  19.650    70.350   107.40   114.729   118.75\n",
      "TotalCharges    18.80  49.605  1397.475  6923.59  8039.883  8684.80\n",
      "Churn            0.00   0.000     0.000     1.00     1.000     1.00\n"
     ]
    }
   ],
   "source": [
    "check_df(df)"
   ]
  },
  {
   "cell_type": "code",
   "execution_count": 13,
   "id": "8b57d064-b40d-4bb0-b9cb-bd12da56f9e0",
   "metadata": {},
   "outputs": [],
   "source": [
    "# Define numerical and categorical variables"
   ]
  },
  {
   "cell_type": "code",
   "execution_count": 12,
   "id": "05a41c08-09d8-4838-b448-7e96728b15ce",
   "metadata": {},
   "outputs": [],
   "source": [
    "def grab_col_names(dataframe, cat_th=10, car_th=20):\n",
    "    # cat_cols, cat_but_car\n",
    "    cat_cols = [col for col in dataframe.columns if dataframe[col].dtypes == \"O\"]\n",
    "    num_but_cat = [col for col in dataframe.columns if dataframe[col].nunique() < cat_th and dataframe[col].dtypes != \"O\"]\n",
    "    cat_but_car = [col for col in dataframe.columns if dataframe[col].nunique() > car_th and dataframe[col].dtypes == \"O\"]\n",
    "    cat_cols = cat_cols + num_but_cat\n",
    "    cat_cols = [col for col in cat_cols if col not in cat_but_car]\n",
    "\n",
    "    # num_cols\n",
    "    num_cols = [col for col in dataframe.columns if dataframe[col].dtypes != \"O\"]\n",
    "    num_cols = [col for col in num_cols if col not in num_but_cat]\n",
    "\n",
    "    print(f\"Observations: {dataframe.shape[0]}\")\n",
    "    print(f\"Variables: {dataframe.shape[1]}\")\n",
    "    print(f'cat_cols: {len(cat_cols)}')\n",
    "    print(f'num_cols: {len(num_cols)}')\n",
    "    print(f'cat_but_car: {len(cat_but_car)}')\n",
    "    print(f'num_but_cat: {len(num_but_cat)}')\n",
    "\n",
    "    return cat_cols, num_cols, cat_but_car\n"
   ]
  },
  {
   "cell_type": "code",
   "execution_count": 14,
   "id": "1f3c033c-21de-4972-a1f6-191bf72e7704",
   "metadata": {},
   "outputs": [
    {
     "name": "stdout",
     "output_type": "stream",
     "text": [
      "Observations: 7043\n",
      "Variables: 21\n",
      "cat_cols: 17\n",
      "num_cols: 3\n",
      "cat_but_car: 1\n",
      "num_but_cat: 2\n"
     ]
    }
   ],
   "source": [
    "cat_cols, num_cols, cat_but_car = grab_col_names(df)"
   ]
  },
  {
   "cell_type": "code",
   "execution_count": null,
   "id": "b4968568-1356-4956-82b0-c9d1bf587798",
   "metadata": {},
   "outputs": [],
   "source": [
    "############\n",
    "# ANALYSIS OF CATEGORICAL VARIABLES\n",
    "############"
   ]
  },
  {
   "cell_type": "code",
   "execution_count": 15,
   "id": "7346dcf1-ea6e-434f-8df9-7ed4bd85e75c",
   "metadata": {},
   "outputs": [],
   "source": [
    "def cat_summary(dataframe, col_name, plot=False):\n",
    "    print(pd.DataFrame({col_name: dataframe[col_name].value_counts(),\n",
    "                        \"Ratio\": 100 * dataframe[col_name].value_counts() / len(dataframe)}))\n",
    "    print(\"##########################################\")\n",
    "    if plot:\n",
    "        sns.countplot(x=dataframe[col_name], data=dataframe)\n",
    "        plt.show()"
   ]
  },
  {
   "cell_type": "code",
   "execution_count": 16,
   "id": "ee70dcd6-4f93-49ac-a284-66e5a9dc7989",
   "metadata": {},
   "outputs": [
    {
     "name": "stdout",
     "output_type": "stream",
     "text": [
      "        gender     Ratio\n",
      "Male      3555  50.47565\n",
      "Female    3488  49.52435\n",
      "##########################################\n",
      "     Partner     Ratio\n",
      "No      3641  51.69672\n",
      "Yes     3402  48.30328\n",
      "##########################################\n",
      "     Dependents      Ratio\n",
      "No         4933  70.041176\n",
      "Yes        2110  29.958824\n",
      "##########################################\n",
      "     PhoneService      Ratio\n",
      "Yes          6361  90.316626\n",
      "No            682   9.683374\n",
      "##########################################\n",
      "                  MultipleLines      Ratio\n",
      "No                         3390  48.132898\n",
      "Yes                        2971  42.183729\n",
      "No phone service            682   9.683374\n",
      "##########################################\n",
      "             InternetService      Ratio\n",
      "Fiber optic             3096  43.958540\n",
      "DSL                     2421  34.374556\n",
      "No                      1526  21.666903\n",
      "##########################################\n",
      "                     OnlineSecurity      Ratio\n",
      "No                             3498  49.666335\n",
      "Yes                            2019  28.666761\n",
      "No internet service            1526  21.666903\n",
      "##########################################\n",
      "                     OnlineBackup      Ratio\n",
      "No                           3088  43.844952\n",
      "Yes                          2429  34.488144\n",
      "No internet service          1526  21.666903\n",
      "##########################################\n",
      "                     DeviceProtection      Ratio\n",
      "No                               3095  43.944342\n",
      "Yes                              2422  34.388755\n",
      "No internet service              1526  21.666903\n",
      "##########################################\n",
      "                     TechSupport      Ratio\n",
      "No                          3473  49.311373\n",
      "Yes                         2044  29.021724\n",
      "No internet service         1526  21.666903\n",
      "##########################################\n",
      "                     StreamingTV      Ratio\n",
      "No                          2810  39.897771\n",
      "Yes                         2707  38.435326\n",
      "No internet service         1526  21.666903\n",
      "##########################################\n",
      "                     StreamingMovies      Ratio\n",
      "No                              2785  39.542808\n",
      "Yes                             2732  38.790288\n",
      "No internet service             1526  21.666903\n",
      "##########################################\n",
      "                Contract      Ratio\n",
      "Month-to-month      3875  55.019168\n",
      "Two year            1695  24.066449\n",
      "One year            1473  20.914383\n",
      "##########################################\n",
      "     PaperlessBilling      Ratio\n",
      "Yes              4171  59.221922\n",
      "No               2872  40.778078\n",
      "##########################################\n",
      "                           PaymentMethod      Ratio\n",
      "Electronic check                    2365  33.579441\n",
      "Mailed check                        1612  22.887974\n",
      "Bank transfer (automatic)           1544  21.922476\n",
      "Credit card (automatic)             1522  21.610109\n",
      "##########################################\n",
      "   SeniorCitizen      Ratio\n",
      "0           5901  83.785319\n",
      "1           1142  16.214681\n",
      "##########################################\n",
      "   Churn      Ratio\n",
      "0   5174  73.463013\n",
      "1   1869  26.536987\n",
      "##########################################\n"
     ]
    }
   ],
   "source": [
    "for col in cat_cols:\n",
    "    cat_summary(df, col)"
   ]
  },
  {
   "cell_type": "code",
   "execution_count": 17,
   "id": "b3840b3a-3c10-45b9-a007-0802c5a971e1",
   "metadata": {},
   "outputs": [],
   "source": [
    "############\n",
    "# ANALYSIS OF NUMERICAL VARIABLES\n",
    "############"
   ]
  },
  {
   "cell_type": "code",
   "execution_count": 18,
   "id": "9e35618b-09e1-436c-ac72-5f64161c2a71",
   "metadata": {},
   "outputs": [],
   "source": [
    "def num_summary(dataframe, numerical_col, plot=False):\n",
    "    quantiles = [0.05, 0.10, 0.20, 0.30, 0.40, 0.50, 0.60, 0.70, 0.80, 0.90, 0.95, 0.99]\n",
    "    print(dataframe[numerical_col].describe(quantiles).T)\n",
    "\n",
    "    if plot:\n",
    "        dataframe[numerical_col].hist(bins=20)\n",
    "        plt.xlabel(numerical_col)\n",
    "        plt.title(numerical_col)\n",
    "        plt.show()"
   ]
  },
  {
   "cell_type": "code",
   "execution_count": 19,
   "id": "36ee0106-bcf7-408e-9330-80e3fdf9c114",
   "metadata": {},
   "outputs": [
    {
     "name": "stdout",
     "output_type": "stream",
     "text": [
      "count    7043.000000\n",
      "mean       32.371149\n",
      "std        24.559481\n",
      "min         0.000000\n",
      "5%          1.000000\n",
      "10%         2.000000\n",
      "20%         6.000000\n",
      "30%        12.000000\n",
      "40%        20.000000\n",
      "50%        29.000000\n",
      "60%        40.000000\n",
      "70%        50.000000\n",
      "80%        60.000000\n",
      "90%        69.000000\n",
      "95%        72.000000\n",
      "99%        72.000000\n",
      "max        72.000000\n",
      "Name: tenure, dtype: float64\n"
     ]
    },
    {
     "data": {
      "image/png": "[encoded data removed]",
      "text/plain": [
       "<Figure size 432x288 with 1 Axes>"
      ]
     },
     "metadata": {
      "needs_background": "light"
     },
     "output_type": "display_data"
    },
    {
     "name": "stdout",
     "output_type": "stream",
     "text": [
      "count    7043.000000\n",
      "mean       64.761692\n",
      "std        30.090047\n",
      "min        18.250000\n",
      "5%         19.650000\n",
      "10%        20.050000\n",
      "20%        25.050000\n",
      "30%        45.850000\n",
      "40%        58.830000\n",
      "50%        70.350000\n",
      "60%        79.100000\n",
      "70%        85.500000\n",
      "80%        94.250000\n",
      "90%       102.600000\n",
      "95%       107.400000\n",
      "99%       114.729000\n",
      "max       118.750000\n",
      "Name: MonthlyCharges, dtype: float64\n"
     ]
    },
    {
     "data": {
      "image/png": "[encoded data removed]",
      "text/plain": [
       "<Figure size 432x288 with 1 Axes>"
      ]
     },
     "metadata": {
      "needs_background": "light"
     },
     "output_type": "display_data"
    },
    {
     "name": "stdout",
     "output_type": "stream",
     "text": [
      "count    7032.000000\n",
      "mean     2283.300441\n",
      "std      2266.771362\n",
      "min        18.800000\n",
      "5%         49.605000\n",
      "10%        84.600000\n",
      "20%       267.070000\n",
      "30%       551.995000\n",
      "40%       944.170000\n",
      "50%      1397.475000\n",
      "60%      2048.950000\n",
      "70%      3141.130000\n",
      "80%      4475.410000\n",
      "90%      5976.640000\n",
      "95%      6923.590000\n",
      "99%      8039.883000\n",
      "max      8684.800000\n",
      "Name: TotalCharges, dtype: float64\n"
     ]
    },
    {
     "data": {
      "image/png": "[encoded data removed]",
      "text/plain": [
       "<Figure size 432x288 with 1 Axes>"
      ]
     },
     "metadata": {
      "needs_background": "light"
     },
     "output_type": "display_data"
    }
   ],
   "source": [
    "for col in num_cols:\n",
    "    num_summary(df, col, plot=True)"
   ]
  },
  {
   "cell_type": "code",
   "execution_count": 20,
   "id": "e4d1f6b9-b25f-4772-b165-0a4d29c92dfe",
   "metadata": {},
   "outputs": [],
   "source": [
    "# When we focus on the tenure variable, it is observed that 1-month customers are too many, followed by 72-month customers."
   ]
  },
  {
   "cell_type": "code",
   "execution_count": 21,
   "id": "5611aa08-a1c7-4651-b2df-0509ad367247",
   "metadata": {},
   "outputs": [
    {
     "data": {
      "text/plain": [
       "1     613\n",
       "72    362\n",
       "2     238\n",
       "3     200\n",
       "4     176\n",
       "Name: tenure, dtype: int64"
      ]
     },
     "execution_count": 21,
     "metadata": {},
     "output_type": "execute_result"
    }
   ],
   "source": [
    "df[\"tenure\"].value_counts().head()"
   ]
  },
  {
   "cell_type": "code",
   "execution_count": 22,
   "id": "64a888c6-8214-48cc-b609-4434239dddcf",
   "metadata": {},
   "outputs": [
    {
     "data": {
      "image/png": "[encoded data removed]",
      "text/plain": [
       "<Figure size 432x288 with 1 Axes>"
      ]
     },
     "metadata": {
      "needs_background": "light"
     },
     "output_type": "display_data"
    }
   ],
   "source": [
    "df[df[\"Contract\"]== \"Month-to-month\"][\"tenure\"].hist(bins=20)\n",
    "plt.xlabel(\"tenure\")\n",
    "plt.title(\"Month-to-month\")\n",
    "plt.show()"
   ]
  },
  {
   "cell_type": "code",
   "execution_count": 23,
   "id": "743f5da7-ace2-44eb-beac-01437aca47c5",
   "metadata": {},
   "outputs": [
    {
     "data": {
      "image/png": "[encoded data removed]",
      "text/plain": [
       "<Figure size 432x288 with 1 Axes>"
      ]
     },
     "metadata": {
      "needs_background": "light"
     },
     "output_type": "display_data"
    }
   ],
   "source": [
    "df[df[\"Contract\"] == \"Two year\"][\"tenure\"].hist(bins=20)\n",
    "plt.xlabel(\"tenure\")\n",
    "plt.title(\"Two year\")\n",
    "plt.show()"
   ]
  },
  {
   "cell_type": "code",
   "execution_count": null,
   "id": "82d71bca-775a-4e1b-baa2-879d83e0de36",
   "metadata": {},
   "outputs": [],
   "source": [
    "# When we focus on MonthyChargers, customers with month contracts may have more average monthly payments."
   ]
  },
  {
   "cell_type": "code",
   "execution_count": 24,
   "id": "ed4a11f8-6e12-4725-ba57-83bd71872007",
   "metadata": {},
   "outputs": [
    {
     "data": {
      "image/png": "[encoded data removed]",
      "text/plain": [
       "<Figure size 432x288 with 1 Axes>"
      ]
     },
     "metadata": {
      "needs_background": "light"
     },
     "output_type": "display_data"
    }
   ],
   "source": [
    "df[df[\"Contract\"] == \"Month-to-month\"][\"MonthlyCharges\"].hist(bins=20)\n",
    "plt.xlabel(\"MonthlyCharges\")\n",
    "plt.title(\"Month-to-month\")\n",
    "plt.show()"
   ]
  },
  {
   "cell_type": "code",
   "execution_count": 25,
   "id": "663e0bef-9c82-472f-b9e2-16e51db7301d",
   "metadata": {},
   "outputs": [
    {
     "data": {
      "text/plain": [
       "66.39849032258037"
      ]
     },
     "execution_count": 25,
     "metadata": {},
     "output_type": "execute_result"
    }
   ],
   "source": [
    "df[df[\"Contract\"] == \"Month-to-month\"][\"MonthlyCharges\"].mean()"
   ]
  },
  {
   "cell_type": "code",
   "execution_count": 26,
   "id": "adf6e50d-a735-4990-80ef-1ded326640f9",
   "metadata": {},
   "outputs": [
    {
     "data": {
      "image/png": "[encoded data removed]",
      "text/plain": [
       "<Figure size 432x288 with 1 Axes>"
      ]
     },
     "metadata": {
      "needs_background": "light"
     },
     "output_type": "display_data"
    }
   ],
   "source": [
    "df[df[\"Contract\"] == \"Two year\"][\"MonthlyCharges\"].hist(bins=20)\n",
    "plt.xlabel(\"MonthlyCharges\")\n",
    "plt.title(\"Two year\")\n",
    "plt.show()"
   ]
  },
  {
   "cell_type": "code",
   "execution_count": 27,
   "id": "56f49486-c947-4325-bbde-3aa22521327a",
   "metadata": {},
   "outputs": [
    {
     "data": {
      "text/plain": [
       "60.770412979351"
      ]
     },
     "execution_count": 27,
     "metadata": {},
     "output_type": "execute_result"
    }
   ],
   "source": [
    "df[df[\"Contract\"] == \"Two year\"][\"MonthlyCharges\"].mean()"
   ]
  },
  {
   "cell_type": "code",
   "execution_count": 28,
   "id": "ce88cbe6-ec93-40ec-a49a-48e642ccc9bd",
   "metadata": {},
   "outputs": [],
   "source": [
    "############\n",
    "# NUMERICAL VARIABLES - TARGET VARIABLE ANALYSIS\n",
    "############"
   ]
  },
  {
   "cell_type": "code",
   "execution_count": 29,
   "id": "2e73cfe2-e264-41f8-aff6-10269033e7f7",
   "metadata": {},
   "outputs": [],
   "source": [
    "def target_summary_with_num(dataframe, target, numerical_col):\n",
    "    print(dataframe.groupby(target).agg({numerical_col:\"mean\"}), end=\"\\n\\n\\n\")"
   ]
  },
  {
   "cell_type": "code",
   "execution_count": 30,
   "id": "5dcf16d1-8e6c-4a64-a4b5-0daa796c5f18",
   "metadata": {},
   "outputs": [
    {
     "name": "stdout",
     "output_type": "stream",
     "text": [
      "          tenure\n",
      "Churn           \n",
      "0      37.569965\n",
      "1      17.979133\n",
      "\n",
      "\n",
      "       MonthlyCharges\n",
      "Churn                \n",
      "0           61.265124\n",
      "1           74.441332\n",
      "\n",
      "\n",
      "       TotalCharges\n",
      "Churn              \n",
      "0       2555.344141\n",
      "1       1531.796094\n",
      "\n",
      "\n"
     ]
    }
   ],
   "source": [
    "for col in num_cols:\n",
    "    target_summary_with_num(df,\"Churn\",col)"
   ]
  },
  {
   "cell_type": "code",
   "execution_count": 31,
   "id": "42cbadc7-2def-4381-9220-86c270764f51",
   "metadata": {},
   "outputs": [],
   "source": [
    "############\n",
    "# CATEGORICAL VARIABLES - TARGET VARIABLE ANALYSIS\n",
    "############"
   ]
  },
  {
   "cell_type": "code",
   "execution_count": 32,
   "id": "ad479140-c4c3-4eac-a048-963ec7d65886",
   "metadata": {},
   "outputs": [],
   "source": [
    "def target_summary_with_cat(dataframe, target, cat_col):\n",
    "    print(cat_col)\n",
    "    print(pd.DataFrame({\"Target_Mean\":dataframe.groupby(cat_col)[target].mean(),\n",
    "                        \"Count\": dataframe[cat_col].value_counts(),\n",
    "                        \"Ratio\":100* dataframe[cat_col].value_counts() / len(dataframe) \n",
    "                       }), end=\"\\n\\n\\n\")"
   ]
  },
  {
   "cell_type": "code",
   "execution_count": 33,
   "id": "e395886a-7eb1-459d-ad4d-83a18f1eefdc",
   "metadata": {},
   "outputs": [
    {
     "name": "stdout",
     "output_type": "stream",
     "text": [
      "gender\n",
      "        Target_Mean  Count     Ratio\n",
      "Female     0.269209   3488  49.52435\n",
      "Male       0.261603   3555  50.47565\n",
      "\n",
      "\n",
      "Partner\n",
      "     Target_Mean  Count     Ratio\n",
      "No      0.329580   3641  51.69672\n",
      "Yes     0.196649   3402  48.30328\n",
      "\n",
      "\n",
      "Dependents\n",
      "     Target_Mean  Count      Ratio\n",
      "No      0.312791   4933  70.041176\n",
      "Yes     0.154502   2110  29.958824\n",
      "\n",
      "\n",
      "PhoneService\n",
      "     Target_Mean  Count      Ratio\n",
      "No      0.249267    682   9.683374\n",
      "Yes     0.267096   6361  90.316626\n",
      "\n",
      "\n",
      "MultipleLines\n",
      "                  Target_Mean  Count      Ratio\n",
      "No                   0.250442   3390  48.132898\n",
      "No phone service     0.249267    682   9.683374\n",
      "Yes                  0.286099   2971  42.183729\n",
      "\n",
      "\n",
      "InternetService\n",
      "             Target_Mean  Count      Ratio\n",
      "DSL             0.189591   2421  34.374556\n",
      "Fiber optic     0.418928   3096  43.958540\n",
      "No              0.074050   1526  21.666903\n",
      "\n",
      "\n",
      "OnlineSecurity\n",
      "                     Target_Mean  Count      Ratio\n",
      "No                      0.417667   3498  49.666335\n",
      "No internet service     0.074050   1526  21.666903\n",
      "Yes                     0.146112   2019  28.666761\n",
      "\n",
      "\n",
      "OnlineBackup\n",
      "                     Target_Mean  Count      Ratio\n",
      "No                      0.399288   3088  43.844952\n",
      "No internet service     0.074050   1526  21.666903\n",
      "Yes                     0.215315   2429  34.488144\n",
      "\n",
      "\n",
      "DeviceProtection\n",
      "                     Target_Mean  Count      Ratio\n",
      "No                      0.391276   3095  43.944342\n",
      "No internet service     0.074050   1526  21.666903\n",
      "Yes                     0.225021   2422  34.388755\n",
      "\n",
      "\n",
      "TechSupport\n",
      "                     Target_Mean  Count      Ratio\n",
      "No                      0.416355   3473  49.311373\n",
      "No internet service     0.074050   1526  21.666903\n",
      "Yes                     0.151663   2044  29.021724\n",
      "\n",
      "\n",
      "StreamingTV\n",
      "                     Target_Mean  Count      Ratio\n",
      "No                      0.335231   2810  39.897771\n",
      "No internet service     0.074050   1526  21.666903\n",
      "Yes                     0.300702   2707  38.435326\n",
      "\n",
      "\n",
      "StreamingMovies\n",
      "                     Target_Mean  Count      Ratio\n",
      "No                      0.336804   2785  39.542808\n",
      "No internet service     0.074050   1526  21.666903\n",
      "Yes                     0.299414   2732  38.790288\n",
      "\n",
      "\n",
      "Contract\n",
      "                Target_Mean  Count      Ratio\n",
      "Month-to-month     0.427097   3875  55.019168\n",
      "One year           0.112695   1473  20.914383\n",
      "Two year           0.028319   1695  24.066449\n",
      "\n",
      "\n",
      "PaperlessBilling\n",
      "     Target_Mean  Count      Ratio\n",
      "No      0.163301   2872  40.778078\n",
      "Yes     0.335651   4171  59.221922\n",
      "\n",
      "\n",
      "PaymentMethod\n",
      "                           Target_Mean  Count      Ratio\n",
      "Bank transfer (automatic)     0.167098   1544  21.922476\n",
      "Credit card (automatic)       0.152431   1522  21.610109\n",
      "Electronic check              0.452854   2365  33.579441\n",
      "Mailed check                  0.191067   1612  22.887974\n",
      "\n",
      "\n",
      "SeniorCitizen\n",
      "   Target_Mean  Count      Ratio\n",
      "0     0.236062   5901  83.785319\n",
      "1     0.416813   1142  16.214681\n",
      "\n",
      "\n",
      "Churn\n",
      "   Target_Mean  Count      Ratio\n",
      "0          0.0   5174  73.463013\n",
      "1          1.0   1869  26.536987\n",
      "\n",
      "\n"
     ]
    }
   ],
   "source": [
    "for col in cat_cols:\n",
    "    target_summary_with_cat(df,\"Churn\",col)"
   ]
  },
  {
   "cell_type": "code",
   "execution_count": 34,
   "id": "66a8cb17-5fee-49d6-9ad5-5adc013d633d",
   "metadata": {},
   "outputs": [],
   "source": [
    "##################################\n",
    "# MISSING VALUE ANALYSIS\n",
    "##################################"
   ]
  },
  {
   "cell_type": "code",
   "execution_count": 35,
   "id": "63f740b0-0736-428b-98d6-2c1385e59553",
   "metadata": {},
   "outputs": [
    {
     "data": {
      "text/plain": [
       "customerID           0\n",
       "gender               0\n",
       "SeniorCitizen        0\n",
       "Partner              0\n",
       "Dependents           0\n",
       "tenure               0\n",
       "PhoneService         0\n",
       "MultipleLines        0\n",
       "InternetService      0\n",
       "OnlineSecurity       0\n",
       "OnlineBackup         0\n",
       "DeviceProtection     0\n",
       "TechSupport          0\n",
       "StreamingTV          0\n",
       "StreamingMovies      0\n",
       "Contract             0\n",
       "PaperlessBilling     0\n",
       "PaymentMethod        0\n",
       "MonthlyCharges       0\n",
       "TotalCharges        11\n",
       "Churn                0\n",
       "dtype: int64"
      ]
     },
     "execution_count": 35,
     "metadata": {},
     "output_type": "execute_result"
    }
   ],
   "source": [
    "df.isnull().sum()"
   ]
  },
  {
   "cell_type": "code",
   "execution_count": 36,
   "id": "dbc8a2fa-b1f0-46d7-97ae-c05725d7db61",
   "metadata": {},
   "outputs": [],
   "source": [
    "def missing_values_table(dataframe, na_name=False):\n",
    "    na_columns = [col for col in dataframe.columns if dataframe[col].isnull().sum() > 0]\n",
    "    n_miss = dataframe[na_columns].isnull().sum().sort_values(ascending=False)\n",
    "    ratio = (dataframe[na_columns].isnull().sum() / dataframe.shape[0] * 100).sort_values(ascending=False)\n",
    "    missing_df = pd.concat([n_miss, np.round(ratio, 2)], axis=1, keys=['n_miss', 'ratio'])\n",
    "    print(missing_df, end=\"\\n\")\n",
    "    if na_name:\n",
    "        return na_columns"
   ]
  },
  {
   "cell_type": "code",
   "execution_count": 37,
   "id": "571fb426-7d5d-4f59-b62a-9cab3003c430",
   "metadata": {},
   "outputs": [
    {
     "name": "stdout",
     "output_type": "stream",
     "text": [
      "              n_miss  ratio\n",
      "TotalCharges      11   0.16\n"
     ]
    }
   ],
   "source": [
    "na_columns = missing_values_table(df, na_name=True)"
   ]
  },
  {
   "cell_type": "code",
   "execution_count": 38,
   "id": "e25a8808-6361-4af2-9302-a66ac8cbc845",
   "metadata": {},
   "outputs": [],
   "source": [
    "df[\"TotalCharges\"].fillna(df[\"TotalCharges\"].median(), inplace=True)"
   ]
  },
  {
   "cell_type": "code",
   "execution_count": 39,
   "id": "198bd278-a22a-430b-bd34-691a20ecfa7b",
   "metadata": {},
   "outputs": [
    {
     "data": {
      "text/plain": [
       "False"
      ]
     },
     "execution_count": 39,
     "metadata": {},
     "output_type": "execute_result"
    }
   ],
   "source": [
    "df[\"TotalCharges\"].isnull().any()"
   ]
  },
  {
   "cell_type": "code",
   "execution_count": 40,
   "id": "ccb471e3-0d48-46f1-830c-c0917b77854e",
   "metadata": {},
   "outputs": [],
   "source": [
    "cat_cols=[col for col in cat_cols if col not in [\"Churn\"]]"
   ]
  },
  {
   "cell_type": "code",
   "execution_count": 41,
   "id": "2e5fc3fe-860a-41dd-b249-279e8eab8b9a",
   "metadata": {},
   "outputs": [
    {
     "data": {
      "text/plain": [
       "['gender',\n",
       " 'Partner',\n",
       " 'Dependents',\n",
       " 'PhoneService',\n",
       " 'MultipleLines',\n",
       " 'InternetService',\n",
       " 'OnlineSecurity',\n",
       " 'OnlineBackup',\n",
       " 'DeviceProtection',\n",
       " 'TechSupport',\n",
       " 'StreamingTV',\n",
       " 'StreamingMovies',\n",
       " 'Contract',\n",
       " 'PaperlessBilling',\n",
       " 'PaymentMethod',\n",
       " 'SeniorCitizen']"
      ]
     },
     "execution_count": 41,
     "metadata": {},
     "output_type": "execute_result"
    }
   ],
   "source": [
    "cat_cols"
   ]
  },
  {
   "cell_type": "code",
   "execution_count": 42,
   "id": "97aaeb8b-ec89-4bda-bb8d-624f6d898563",
   "metadata": {},
   "outputs": [],
   "source": [
    "dff = df.copy()"
   ]
  },
  {
   "cell_type": "code",
   "execution_count": 43,
   "id": "aa15edf0-ad09-484d-b1a9-74f35bda66ad",
   "metadata": {},
   "outputs": [],
   "source": [
    "def one_hot_encoder(dataframe, categorical_cols, drop_first=False):\n",
    "    dataframe = pd.get_dummies(dataframe, columns=categorical_cols, drop_first=drop_first)\n",
    "    return dataframe"
   ]
  },
  {
   "cell_type": "code",
   "execution_count": 44,
   "id": "d071c878-51f0-47fc-b29d-7afa3dcb947f",
   "metadata": {},
   "outputs": [],
   "source": [
    "dff = one_hot_encoder(dff, cat_cols, drop_first=True)"
   ]
  },
  {
   "cell_type": "code",
   "execution_count": 45,
   "id": "909b79ea-a580-455b-87f8-1b53515f3054",
   "metadata": {},
   "outputs": [],
   "source": [
    "def outlier_thresholds(dataframe, col_name, q1=0.05, q3=0.95):\n",
    "    quartile1 = dataframe[col_name].quantile(q1)\n",
    "    quartile3 = dataframe[col_name].quantile(q3)\n",
    "    interquantile_range = quartile3 - quartile1\n",
    "    up_limit = quartile3 + 1.5 * interquantile_range\n",
    "    low_limit = quartile1 - 1.5 * interquantile_range\n",
    "    return low_limit, up_limit"
   ]
  },
  {
   "cell_type": "code",
   "execution_count": 46,
   "id": "a190be0a-82af-47b6-b7e2-3987b14fef5f",
   "metadata": {},
   "outputs": [],
   "source": [
    "def check_outlier(dataframe, col_name):\n",
    "    low_limit, up_limit = outlier_thresholds(dataframe, col_name)\n",
    "    if dataframe[(dataframe[col_name] > up_limit) | (dataframe[col_name] < low_limit)].any(axis=None):\n",
    "        return True\n",
    "    else:\n",
    "        return False\n"
   ]
  },
  {
   "cell_type": "code",
   "execution_count": 47,
   "id": "ab019c99-a1bc-46c7-b6c1-47c8accee24d",
   "metadata": {},
   "outputs": [],
   "source": [
    "def replace_with_thresholds(dataframe, variable, q1=0.05, q3=0.95):\n",
    "    low_limit, up_limit = outlier_thresholds(dataframe, variable, q1=0.05, q3=0.95)\n",
    "    dataframe.loc[(dataframe[variable] < low_limit), variable] = low_limit\n",
    "    dataframe.loc[(dataframe[variable] > up_limit), variable] = up_limit"
   ]
  },
  {
   "cell_type": "code",
   "execution_count": 48,
   "id": "8ec9a495-a5e8-43ec-8295-d62e401293c4",
   "metadata": {},
   "outputs": [
    {
     "name": "stdout",
     "output_type": "stream",
     "text": [
      "tenure False\n",
      "MonthlyCharges False\n",
      "TotalCharges False\n"
     ]
    }
   ],
   "source": [
    "for col in num_cols:\n",
    "    print(col, check_outlier(df, col))"
   ]
  },
  {
   "cell_type": "code",
   "execution_count": null,
   "id": "803f3abc-5f55-498a-be3b-ff02baeba5f4",
   "metadata": {},
   "outputs": [],
   "source": [
    "##################################\n",
    "# FEATURE EXTRACTION \n",
    "##################################"
   ]
  },
  {
   "cell_type": "code",
   "execution_count": null,
   "id": "e5163c1b-0819-467c-92e3-00b9ee4eaf4b",
   "metadata": {},
   "outputs": [],
   "source": [
    "# Create categorical variable from tenure variable"
   ]
  },
  {
   "cell_type": "code",
   "execution_count": 49,
   "id": "83e01c84-d5f7-4379-8a70-0d10412538a1",
   "metadata": {},
   "outputs": [],
   "source": [
    "df.loc[(df[\"tenure\"]>= 0) & (df[\"tenure\"]<=12), \"NEW_TENURE_YEAR\"]= \"0-1 YEAR\"\n",
    "df.loc[(df[\"tenure\"]>= 12) & (df[\"tenure\"]<=24), \"NEW_TENURE_YEAR\"]= \"1-2 YEAR\"\n",
    "df.loc[(df[\"tenure\"]>= 24) & (df[\"tenure\"]<=36), \"NEW_TENURE_YEAR\"]= \"2-3 YEAR\"\n",
    "df.loc[(df[\"tenure\"]>= 36) & (df[\"tenure\"]<=48), \"NEW_TENURE_YEAR\"]= \"3-4 YEAR\"\n",
    "df.loc[(df[\"tenure\"]>= 48) & (df[\"tenure\"]<=60), \"NEW_TENURE_YEAR\"]= \"4-5 YEAR\"\n",
    "df.loc[(df[\"tenure\"]>= 60) & (df[\"tenure\"]<=72), \"NEW_TENURE_YEAR\"]= \"5-6 YEAR\""
   ]
  },
  {
   "cell_type": "code",
   "execution_count": null,
   "id": "bb440f6b-932c-414d-a1b5-9a53ab7d26f7",
   "metadata": {},
   "outputs": [],
   "source": [
    "#Specifying customers with a contract of 1-2 years as \"Engaged\""
   ]
  },
  {
   "cell_type": "code",
   "execution_count": 50,
   "id": "190beaaf-bc5a-45db-b830-ee76f685bfc1",
   "metadata": {},
   "outputs": [],
   "source": [
    "df[\"NEW_Engaged\"] = df[\"Contract\"].apply(lambda x: 1 if x in [\"One year\", \"Two year\"] else 0)"
   ]
  },
  {
   "cell_type": "code",
   "execution_count": 53,
   "id": "328eb6ed-fa42-4988-9dad-4fdfa75d540a",
   "metadata": {},
   "outputs": [],
   "source": [
    "# People who don't receive any tech support, online backup or device protection."
   ]
  },
  {
   "cell_type": "code",
   "execution_count": 54,
   "id": "7bd8bd75-74e4-467e-b4b6-d6858fb2c67a",
   "metadata": {},
   "outputs": [],
   "source": [
    "df[\"NEW_noProt\"] = df.apply(lambda x: 1 if (x[\"OnlineBackup\"] != \"Yes\") or (x[\"DeviceProtection\"] != \"Yes\") or (x[\"TechSupport\"] != \"Yes\") else 0, axis=1)"
   ]
  },
  {
   "cell_type": "code",
   "execution_count": 55,
   "id": "ca2540d4-b32a-491e-82fe-1ef94a61f40d",
   "metadata": {},
   "outputs": [],
   "source": [
    "#Customers with monthly contracts who are young"
   ]
  },
  {
   "cell_type": "code",
   "execution_count": 56,
   "id": "e29890ed-8a82-432c-a639-b7715191d5db",
   "metadata": {},
   "outputs": [],
   "source": [
    "df[\"NEW_Young_Not_Engaged\"] = df.apply(lambda x: 1 if (x[\"NEW_Engaged\"] == 0) and (x[\"SeniorCitizen\"] == 0) else 0, axis=1)"
   ]
  },
  {
   "cell_type": "code",
   "execution_count": 57,
   "id": "e9b54bd3-130b-4e9e-9793-645897ec7dfb",
   "metadata": {},
   "outputs": [],
   "source": [
    "#Total number of services received by the customer"
   ]
  },
  {
   "cell_type": "code",
   "execution_count": 58,
   "id": "e85c3fee-6917-4282-ab18-92c8c4d1c2ef",
   "metadata": {},
   "outputs": [],
   "source": [
    "df['NEW_TotalServices'] = (df[['PhoneService', 'InternetService', 'OnlineSecurity',\n",
    "                               'OnlineBackup', 'DeviceProtection', 'TechSupport',\n",
    "                               'StreamingTV', 'StreamingMovies']] == 'Yes').sum(axis=1)"
   ]
  },
  {
   "cell_type": "code",
   "execution_count": 59,
   "id": "88c3cddb-28b8-47e7-b31c-a536a57f9384",
   "metadata": {},
   "outputs": [],
   "source": [
    "#People who buy any streaming service"
   ]
  },
  {
   "cell_type": "code",
   "execution_count": 60,
   "id": "f8b43aa7-cd40-4ebb-bae6-ddf19bd0d8fe",
   "metadata": {},
   "outputs": [],
   "source": [
    "df[\"NEW_FLAG_ANY_STREAMING\"]=df.apply ( lambda x:1 if (x[\"StreamingTV\"]== \"Yes\")or (x[\"StreamingMovies\"]==\"Yes\") else 0, axis=1)"
   ]
  },
  {
   "cell_type": "code",
   "execution_count": 61,
   "id": "2208e6c3-3f6f-4921-8174-02913c536b85",
   "metadata": {},
   "outputs": [],
   "source": [
    "#Does the customer make automatic payments?"
   ]
  },
  {
   "cell_type": "code",
   "execution_count": 63,
   "id": "b8fc5282-0c94-44bd-9403-dd36e5c5254c",
   "metadata": {},
   "outputs": [],
   "source": [
    "df[\"PaymentMethod\"].unique()\n",
    "df[\"NEW_FLAG_AutoPayment\"] = df[\"PaymentMethod\"].apply(lambda x: 1 if x in [\"Bank transfer (automatic)\", \"Credit card (automatic)\"] else 0)"
   ]
  },
  {
   "cell_type": "code",
   "execution_count": 64,
   "id": "2927bf38-f5ed-439e-b0d8-310d1836728c",
   "metadata": {},
   "outputs": [],
   "source": [
    "#Average monthly payment"
   ]
  },
  {
   "cell_type": "code",
   "execution_count": 65,
   "id": "747d9150-c25e-4eb0-b393-014b43a7a27b",
   "metadata": {},
   "outputs": [],
   "source": [
    "df[\"NEW_AVG_Charges\"] = df[\"TotalCharges\"] / (df[\"tenure\"] +0.1)"
   ]
  },
  {
   "cell_type": "code",
   "execution_count": null,
   "id": "19d5ff4b-485c-4c7d-a313-f478b5fab279",
   "metadata": {},
   "outputs": [],
   "source": [
    "# Current Price increase relative to average price"
   ]
  },
  {
   "cell_type": "code",
   "execution_count": 66,
   "id": "dae36c87-9ddf-4e0f-a85c-81ae771249ef",
   "metadata": {},
   "outputs": [],
   "source": [
    "df[\"NEW_Increase\"] = df[\"NEW_AVG_Charges\"] / (df[\"MonthlyCharges\"] + 1)"
   ]
  },
  {
   "cell_type": "code",
   "execution_count": null,
   "id": "46e4d63b-bb59-4a03-b1ba-9e74eb316239",
   "metadata": {},
   "outputs": [],
   "source": [
    "# Charge per service"
   ]
  },
  {
   "cell_type": "code",
   "execution_count": 67,
   "id": "433ea989-2537-4aa4-82da-3ad6995499c4",
   "metadata": {},
   "outputs": [],
   "source": [
    "df[\"NEW_AVG_Service_Fee\"] = df[\"MonthlyCharges\"] / (df['NEW_TotalServices'] + 1)"
   ]
  },
  {
   "cell_type": "code",
   "execution_count": 68,
   "id": "7623ca17-a6e6-47eb-a09f-f7d2813d82d1",
   "metadata": {},
   "outputs": [
    {
     "data": {
      "text/html": [
       "<div>\n",
       "<style scoped>\n",
       "    .dataframe tbody tr th:only-of-type {\n",
       "        vertical-align: middle;\n",
       "    }\n",
       "\n",
       "    .dataframe tbody tr th {\n",
       "        vertical-align: top;\n",
       "    }\n",
       "\n",
       "    .dataframe thead th {\n",
       "        text-align: right;\n",
       "    }\n",
       "</style>\n",
       "<table border=\"1\" class=\"dataframe\">\n",
       "  <thead>\n",
       "    <tr style=\"text-align: right;\">\n",
       "      <th></th>\n",
       "      <th>customerID</th>\n",
       "      <th>gender</th>\n",
       "      <th>SeniorCitizen</th>\n",
       "      <th>Partner</th>\n",
       "      <th>Dependents</th>\n",
       "      <th>tenure</th>\n",
       "      <th>PhoneService</th>\n",
       "      <th>MultipleLines</th>\n",
       "      <th>InternetService</th>\n",
       "      <th>OnlineSecurity</th>\n",
       "      <th>...</th>\n",
       "      <th>NEW_TENURE_YEAR</th>\n",
       "      <th>NEW_Engaged</th>\n",
       "      <th>NEW_noProt</th>\n",
       "      <th>NEW_Young_Not_Engaged</th>\n",
       "      <th>NEW_TotalServices</th>\n",
       "      <th>NEW_FLAG_ANY_STREAMING</th>\n",
       "      <th>NEW_FLAG_AutoPayment</th>\n",
       "      <th>NEW_AVG_Charges</th>\n",
       "      <th>NEW_Increase</th>\n",
       "      <th>NEW_AVG_Service_Fee</th>\n",
       "    </tr>\n",
       "  </thead>\n",
       "  <tbody>\n",
       "    <tr>\n",
       "      <th>0</th>\n",
       "      <td>7590-VHVEG</td>\n",
       "      <td>Female</td>\n",
       "      <td>0</td>\n",
       "      <td>Yes</td>\n",
       "      <td>No</td>\n",
       "      <td>1</td>\n",
       "      <td>No</td>\n",
       "      <td>No phone service</td>\n",
       "      <td>DSL</td>\n",
       "      <td>No</td>\n",
       "      <td>...</td>\n",
       "      <td>0-1 YEAR</td>\n",
       "      <td>0</td>\n",
       "      <td>1</td>\n",
       "      <td>1</td>\n",
       "      <td>1</td>\n",
       "      <td>0</td>\n",
       "      <td>0</td>\n",
       "      <td>27.136364</td>\n",
       "      <td>0.879623</td>\n",
       "      <td>14.9250</td>\n",
       "    </tr>\n",
       "    <tr>\n",
       "      <th>1</th>\n",
       "      <td>5575-GNVDE</td>\n",
       "      <td>Male</td>\n",
       "      <td>0</td>\n",
       "      <td>No</td>\n",
       "      <td>No</td>\n",
       "      <td>34</td>\n",
       "      <td>Yes</td>\n",
       "      <td>No</td>\n",
       "      <td>DSL</td>\n",
       "      <td>Yes</td>\n",
       "      <td>...</td>\n",
       "      <td>2-3 YEAR</td>\n",
       "      <td>1</td>\n",
       "      <td>1</td>\n",
       "      <td>0</td>\n",
       "      <td>3</td>\n",
       "      <td>0</td>\n",
       "      <td>0</td>\n",
       "      <td>55.410557</td>\n",
       "      <td>0.956179</td>\n",
       "      <td>14.2375</td>\n",
       "    </tr>\n",
       "    <tr>\n",
       "      <th>2</th>\n",
       "      <td>3668-QPYBK</td>\n",
       "      <td>Male</td>\n",
       "      <td>0</td>\n",
       "      <td>No</td>\n",
       "      <td>No</td>\n",
       "      <td>2</td>\n",
       "      <td>Yes</td>\n",
       "      <td>No</td>\n",
       "      <td>DSL</td>\n",
       "      <td>Yes</td>\n",
       "      <td>...</td>\n",
       "      <td>0-1 YEAR</td>\n",
       "      <td>0</td>\n",
       "      <td>1</td>\n",
       "      <td>1</td>\n",
       "      <td>3</td>\n",
       "      <td>0</td>\n",
       "      <td>0</td>\n",
       "      <td>51.500000</td>\n",
       "      <td>0.938924</td>\n",
       "      <td>13.4625</td>\n",
       "    </tr>\n",
       "    <tr>\n",
       "      <th>3</th>\n",
       "      <td>7795-CFOCW</td>\n",
       "      <td>Male</td>\n",
       "      <td>0</td>\n",
       "      <td>No</td>\n",
       "      <td>No</td>\n",
       "      <td>45</td>\n",
       "      <td>No</td>\n",
       "      <td>No phone service</td>\n",
       "      <td>DSL</td>\n",
       "      <td>Yes</td>\n",
       "      <td>...</td>\n",
       "      <td>3-4 YEAR</td>\n",
       "      <td>1</td>\n",
       "      <td>1</td>\n",
       "      <td>0</td>\n",
       "      <td>3</td>\n",
       "      <td>0</td>\n",
       "      <td>1</td>\n",
       "      <td>40.814856</td>\n",
       "      <td>0.942606</td>\n",
       "      <td>10.5750</td>\n",
       "    </tr>\n",
       "    <tr>\n",
       "      <th>4</th>\n",
       "      <td>9237-HQITU</td>\n",
       "      <td>Female</td>\n",
       "      <td>0</td>\n",
       "      <td>No</td>\n",
       "      <td>No</td>\n",
       "      <td>2</td>\n",
       "      <td>Yes</td>\n",
       "      <td>No</td>\n",
       "      <td>Fiber optic</td>\n",
       "      <td>No</td>\n",
       "      <td>...</td>\n",
       "      <td>0-1 YEAR</td>\n",
       "      <td>0</td>\n",
       "      <td>1</td>\n",
       "      <td>1</td>\n",
       "      <td>1</td>\n",
       "      <td>0</td>\n",
       "      <td>0</td>\n",
       "      <td>72.214286</td>\n",
       "      <td>1.007173</td>\n",
       "      <td>35.3500</td>\n",
       "    </tr>\n",
       "  </tbody>\n",
       "</table>\n",
       "<p>5 rows × 31 columns</p>\n",
       "</div>"
      ],
      "text/plain": [
       "   customerID  gender  SeniorCitizen Partner Dependents  tenure PhoneService  \\\n",
       "0  7590-VHVEG  Female              0     Yes         No       1           No   \n",
       "1  5575-GNVDE    Male              0      No         No      34          Yes   \n",
       "2  3668-QPYBK    Male              0      No         No       2          Yes   \n",
       "3  7795-CFOCW    Male              0      No         No      45           No   \n",
       "4  9237-HQITU  Female              0      No         No       2          Yes   \n",
       "\n",
       "      MultipleLines InternetService OnlineSecurity  ... NEW_TENURE_YEAR  \\\n",
       "0  No phone service             DSL             No  ...        0-1 YEAR   \n",
       "1                No             DSL            Yes  ...        2-3 YEAR   \n",
       "2                No             DSL            Yes  ...        0-1 YEAR   \n",
       "3  No phone service             DSL            Yes  ...        3-4 YEAR   \n",
       "4                No     Fiber optic             No  ...        0-1 YEAR   \n",
       "\n",
       "  NEW_Engaged NEW_noProt NEW_Young_Not_Engaged NEW_TotalServices  \\\n",
       "0           0          1                     1                 1   \n",
       "1           1          1                     0                 3   \n",
       "2           0          1                     1                 3   \n",
       "3           1          1                     0                 3   \n",
       "4           0          1                     1                 1   \n",
       "\n",
       "  NEW_FLAG_ANY_STREAMING NEW_FLAG_AutoPayment NEW_AVG_Charges  NEW_Increase  \\\n",
       "0                      0                    0       27.136364      0.879623   \n",
       "1                      0                    0       55.410557      0.956179   \n",
       "2                      0                    0       51.500000      0.938924   \n",
       "3                      0                    1       40.814856      0.942606   \n",
       "4                      0                    0       72.214286      1.007173   \n",
       "\n",
       "   NEW_AVG_Service_Fee  \n",
       "0              14.9250  \n",
       "1              14.2375  \n",
       "2              13.4625  \n",
       "3              10.5750  \n",
       "4              35.3500  \n",
       "\n",
       "[5 rows x 31 columns]"
      ]
     },
     "execution_count": 68,
     "metadata": {},
     "output_type": "execute_result"
    }
   ],
   "source": [
    "df.head()"
   ]
  },
  {
   "cell_type": "code",
   "execution_count": 69,
   "id": "07b789bb-a46f-4929-9d72-278067b839bd",
   "metadata": {},
   "outputs": [
    {
     "data": {
      "text/plain": [
       "(7043, 31)"
      ]
     },
     "execution_count": 69,
     "metadata": {},
     "output_type": "execute_result"
    }
   ],
   "source": [
    "df.shape"
   ]
  },
  {
   "cell_type": "code",
   "execution_count": 70,
   "id": "2518a1a3-b70e-4c8a-b23e-724515c59fd3",
   "metadata": {},
   "outputs": [],
   "source": [
    "##################################\n",
    "# ENCODING\n",
    "##################################"
   ]
  },
  {
   "cell_type": "code",
   "execution_count": 71,
   "id": "74af3829-fee0-4524-b4dd-1c4bc77a9b5b",
   "metadata": {},
   "outputs": [
    {
     "name": "stdout",
     "output_type": "stream",
     "text": [
      "Observations: 7043\n",
      "Variables: 31\n",
      "cat_cols: 24\n",
      "num_cols: 6\n",
      "cat_but_car: 1\n",
      "num_but_cat: 8\n"
     ]
    }
   ],
   "source": [
    "cat_cols, num_cols, cat_but_car = grab_col_names(df)"
   ]
  },
  {
   "cell_type": "code",
   "execution_count": null,
   "id": "12e5e703-7d2d-45bc-9260-2c8619ab58cb",
   "metadata": {},
   "outputs": [],
   "source": [
    "# LABEL ENCODING"
   ]
  },
  {
   "cell_type": "code",
   "execution_count": 78,
   "id": "60ebcf22-3692-423d-8428-9d61ef1e80c0",
   "metadata": {},
   "outputs": [],
   "source": [
    "from sklearn.preprocessing import LabelEncoder"
   ]
  },
  {
   "cell_type": "code",
   "execution_count": 79,
   "id": "7b896750-c0c4-4f8c-b3bd-9373a7641bd3",
   "metadata": {},
   "outputs": [],
   "source": [
    "def label_encoder(dataframe, binary_col):\n",
    "    labelencoder = LabelEncoder()\n",
    "    dataframe[binary_col] = labelencoder.fit_transform(dataframe[binary_col])\n",
    "    return dataframe"
   ]
  },
  {
   "cell_type": "code",
   "execution_count": 80,
   "id": "6ffa82a2-217b-4c8f-becd-124297755801",
   "metadata": {},
   "outputs": [
    {
     "data": {
      "text/plain": [
       "['gender', 'Partner', 'Dependents', 'PhoneService', 'PaperlessBilling']"
      ]
     },
     "execution_count": 80,
     "metadata": {},
     "output_type": "execute_result"
    }
   ],
   "source": [
    "binary_cols = [col for col in df.columns if df[col].dtypes == \"O\" and df[col].nunique() == 2]\n",
    "binary_cols"
   ]
  },
  {
   "cell_type": "code",
   "execution_count": 81,
   "id": "2c963a14-f2a1-494b-9512-ac8e202cb4b7",
   "metadata": {},
   "outputs": [],
   "source": [
    "for col in binary_cols:\n",
    "    df = label_encoder(df, col)"
   ]
  },
  {
   "cell_type": "code",
   "execution_count": 82,
   "id": "1d4e05ae-b596-4440-abef-263192bd4653",
   "metadata": {},
   "outputs": [],
   "source": [
    "# One-Hot Encoding"
   ]
  },
  {
   "cell_type": "code",
   "execution_count": 83,
   "id": "c0ac3dab-1ffe-476e-8930-2300780a0e8f",
   "metadata": {},
   "outputs": [],
   "source": [
    "#Update process of cat_cols list"
   ]
  },
  {
   "cell_type": "code",
   "execution_count": 84,
   "id": "a685a4b3-b290-4706-9498-687cde40559f",
   "metadata": {},
   "outputs": [
    {
     "data": {
      "text/plain": [
       "['MultipleLines',\n",
       " 'InternetService',\n",
       " 'OnlineSecurity',\n",
       " 'OnlineBackup',\n",
       " 'DeviceProtection',\n",
       " 'TechSupport',\n",
       " 'StreamingTV',\n",
       " 'StreamingMovies',\n",
       " 'Contract',\n",
       " 'PaymentMethod',\n",
       " 'NEW_TENURE_YEAR',\n",
       " 'SeniorCitizen',\n",
       " 'NEW_Engaged',\n",
       " 'NEW_noProt',\n",
       " 'NEW_Young_Not_Engaged',\n",
       " 'NEW_FLAG_ANY_STREAMING',\n",
       " 'NEW_FLAG_AutoPayment']"
      ]
     },
     "execution_count": 84,
     "metadata": {},
     "output_type": "execute_result"
    }
   ],
   "source": [
    "cat_cols = [col for col in cat_cols if col not in binary_cols and col not in [\"Churn\", \"NEW_TotalServices\"]]\n",
    "cat_cols"
   ]
  },
  {
   "cell_type": "code",
   "execution_count": 85,
   "id": "687b87a7-e557-430e-8628-5a325dd0a0e7",
   "metadata": {},
   "outputs": [],
   "source": [
    "def one_hot_encoder(dataframe, categorical_cols, drop_first=False):\n",
    "    dataframe = pd.get_dummies(dataframe, columns=categorical_cols, drop_first=drop_first)\n",
    "    return dataframe"
   ]
  },
  {
   "cell_type": "code",
   "execution_count": 86,
   "id": "4dc21039-838e-4199-90da-3d06bf1419f5",
   "metadata": {},
   "outputs": [],
   "source": [
    "df = one_hot_encoder(df, cat_cols, drop_first=True)\n"
   ]
  },
  {
   "cell_type": "code",
   "execution_count": 87,
   "id": "cfdc7e0b-e225-432d-a881-aa1aacc648aa",
   "metadata": {},
   "outputs": [
    {
     "data": {
      "text/plain": [
       "(7043, 46)"
      ]
     },
     "execution_count": 87,
     "metadata": {},
     "output_type": "execute_result"
    }
   ],
   "source": [
    "df.shape"
   ]
  },
  {
   "cell_type": "code",
   "execution_count": null,
   "id": "bf25ad66-0846-44b2-b850-7bfaccc03daf",
   "metadata": {},
   "outputs": [],
   "source": [
    "##################################\n",
    "# MODELLING\n",
    "##################################"
   ]
  },
  {
   "cell_type": "code",
   "execution_count": 88,
   "id": "a63af795-e89e-404d-a063-47780bdcbc25",
   "metadata": {},
   "outputs": [],
   "source": [
    "y = df[\"Churn\"]\n",
    "X = df.drop([\"Churn\", \"customerID\"], axis=1)"
   ]
  },
  {
   "cell_type": "code",
   "execution_count": 89,
   "id": "fc41bb55-6681-465c-984d-97929b4f5fb3",
   "metadata": {},
   "outputs": [],
   "source": [
    "cart_model= DecisionTreeClassifier(random_state=17).fit(X,y)"
   ]
  },
  {
   "cell_type": "code",
   "execution_count": 98,
   "id": "6600ad9f-6698-43d6-9950-0142bf875746",
   "metadata": {},
   "outputs": [],
   "source": [
    "cv= cross_validate(cart_model, X, y, cv=5 , scoring= [\"accuracy\", \"f1\", \"roc_auc\"])"
   ]
  },
  {
   "cell_type": "code",
   "execution_count": 100,
   "id": "a1b1d9d7-989c-4153-afac-f8439351201e",
   "metadata": {},
   "outputs": [
    {
     "data": {
      "text/plain": [
       "0.7337763726692045"
      ]
     },
     "execution_count": 100,
     "metadata": {},
     "output_type": "execute_result"
    }
   ],
   "source": [
    "cv['test_accuracy'].mean()"
   ]
  },
  {
   "cell_type": "code",
   "execution_count": 101,
   "id": "1e86b52e-f1e5-4896-8dc2-8eec4d851fb0",
   "metadata": {},
   "outputs": [
    {
     "data": {
      "text/plain": [
       "0.5006775208580111"
      ]
     },
     "execution_count": 101,
     "metadata": {},
     "output_type": "execute_result"
    }
   ],
   "source": [
    "cv['test_f1'].mean()"
   ]
  },
  {
   "cell_type": "code",
   "execution_count": 102,
   "id": "8e68e4cf-ee9b-4a8c-a0bf-209f29267814",
   "metadata": {},
   "outputs": [
    {
     "data": {
      "text/plain": [
       "0.6607226738681702"
      ]
     },
     "execution_count": 102,
     "metadata": {},
     "output_type": "execute_result"
    }
   ],
   "source": [
    "cv['test_roc_auc'].mean()"
   ]
  },
  {
   "cell_type": "code",
   "execution_count": 103,
   "id": "206699db-e065-493f-96f1-d7d2300ad128",
   "metadata": {},
   "outputs": [],
   "source": [
    "################################################\n",
    "# Hyperparameter Optimization with GridSearchCV\n",
    "################################################"
   ]
  },
  {
   "cell_type": "code",
   "execution_count": 104,
   "id": "07964d5d-fa50-4433-8eb8-d29a1611406c",
   "metadata": {},
   "outputs": [
    {
     "data": {
      "text/plain": [
       "{'ccp_alpha': 0.0,\n",
       " 'class_weight': None,\n",
       " 'criterion': 'gini',\n",
       " 'max_depth': None,\n",
       " 'max_features': None,\n",
       " 'max_leaf_nodes': None,\n",
       " 'min_impurity_decrease': 0.0,\n",
       " 'min_impurity_split': None,\n",
       " 'min_samples_leaf': 1,\n",
       " 'min_samples_split': 2,\n",
       " 'min_weight_fraction_leaf': 0.0,\n",
       " 'random_state': 17,\n",
       " 'splitter': 'best'}"
      ]
     },
     "execution_count": 104,
     "metadata": {},
     "output_type": "execute_result"
    }
   ],
   "source": [
    "cart_model.get_params()"
   ]
  },
  {
   "cell_type": "code",
   "execution_count": 105,
   "id": "09801784-1267-4655-8fd9-38740698a3e2",
   "metadata": {},
   "outputs": [],
   "source": [
    "cart_params= {\"max_depth\": range(1,11),\n",
    "             'min_samples_split': range(2,20)}"
   ]
  },
  {
   "cell_type": "code",
   "execution_count": 106,
   "id": "68af893e-c42c-4763-b497-2be707fd61c5",
   "metadata": {},
   "outputs": [
    {
     "name": "stdout",
     "output_type": "stream",
     "text": [
      "Fitting 5 folds for each of 180 candidates, totalling 900 fits\n"
     ]
    }
   ],
   "source": [
    "cart_best_grid= GridSearchCV(cart_model, cart_params, cv=5,\n",
    "                            n_jobs=-1,\n",
    "                            verbose=1). fit(X,y)"
   ]
  },
  {
   "cell_type": "code",
   "execution_count": 107,
   "id": "a0c093e8-ab05-4eb1-9250-48c1ab593191",
   "metadata": {},
   "outputs": [
    {
     "data": {
      "text/plain": [
       "{'max_depth': 5, 'min_samples_split': 2}"
      ]
     },
     "execution_count": 107,
     "metadata": {},
     "output_type": "execute_result"
    }
   ],
   "source": [
    "cart_best_grid.best_params_"
   ]
  },
  {
   "cell_type": "code",
   "execution_count": 108,
   "id": "ad527b00-9126-4cda-a7b0-7b467e34e12b",
   "metadata": {},
   "outputs": [
    {
     "data": {
      "text/plain": [
       "0.7871640912316924"
      ]
     },
     "execution_count": 108,
     "metadata": {},
     "output_type": "execute_result"
    }
   ],
   "source": [
    "cart_best_grid.best_score_"
   ]
  },
  {
   "cell_type": "code",
   "execution_count": 109,
   "id": "ef36cebe-6dc5-40ea-8477-c74e3fadb658",
   "metadata": {},
   "outputs": [],
   "source": [
    "################################################\n",
    "# Final Model\n",
    "################################################"
   ]
  },
  {
   "cell_type": "code",
   "execution_count": 118,
   "id": "a6a82fc6-4cab-4dc2-b45b-3f6969373bf1",
   "metadata": {},
   "outputs": [],
   "source": [
    "cart_final= DecisionTreeClassifier(**cart_best_grid.best_params_,\n",
    "                                  random_state=17).fit(X,y)"
   ]
  },
  {
   "cell_type": "code",
   "execution_count": 119,
   "id": "123d1c49-d18d-4b79-86d9-08342435bb68",
   "metadata": {},
   "outputs": [
    {
     "data": {
      "text/plain": [
       "{'ccp_alpha': 0.0,\n",
       " 'class_weight': None,\n",
       " 'criterion': 'gini',\n",
       " 'max_depth': 5,\n",
       " 'max_features': None,\n",
       " 'max_leaf_nodes': None,\n",
       " 'min_impurity_decrease': 0.0,\n",
       " 'min_impurity_split': None,\n",
       " 'min_samples_leaf': 1,\n",
       " 'min_samples_split': 2,\n",
       " 'min_weight_fraction_leaf': 0.0,\n",
       " 'random_state': 17,\n",
       " 'splitter': 'best'}"
      ]
     },
     "execution_count": 119,
     "metadata": {},
     "output_type": "execute_result"
    }
   ],
   "source": [
    "cart_final.get_params()"
   ]
  },
  {
   "cell_type": "code",
   "execution_count": 120,
   "id": "8526263f-9e7d-443c-818d-7507ba15458c",
   "metadata": {},
   "outputs": [],
   "source": [
    "cart_final= cart_model.set_params(**cart_best_grid.best_params_).fit(X, y)"
   ]
  },
  {
   "cell_type": "code",
   "execution_count": 122,
   "id": "0a3b4267-9ad6-465c-b0d9-7a894367580c",
   "metadata": {},
   "outputs": [],
   "source": [
    "cv = cross_validate(cart_final, X, y,\n",
    "                            cv=5,\n",
    "                            scoring=[\"accuracy\", \"f1\", \"roc_auc\"])"
   ]
  },
  {
   "cell_type": "code",
   "execution_count": 126,
   "id": "39b976d8-b51c-409b-b687-f1a15a6d5152",
   "metadata": {},
   "outputs": [
    {
     "data": {
      "text/plain": [
       "0.7871640912316924"
      ]
     },
     "execution_count": 126,
     "metadata": {},
     "output_type": "execute_result"
    }
   ],
   "source": [
    "cv['test_accuracy'].mean()"
   ]
  },
  {
   "cell_type": "code",
   "execution_count": 127,
   "id": "c99622bb-6528-4b97-8023-d9ac74b8d019",
   "metadata": {},
   "outputs": [
    {
     "data": {
      "text/plain": [
       "0.5644983672152739"
      ]
     },
     "execution_count": 127,
     "metadata": {},
     "output_type": "execute_result"
    }
   ],
   "source": [
    "cv['test_f1'].mean()"
   ]
  },
  {
   "cell_type": "code",
   "execution_count": 128,
   "id": "c77fe745-a165-46cf-b57b-ff9b8a32359d",
   "metadata": {},
   "outputs": [
    {
     "data": {
      "text/plain": [
       "0.8246449859525828"
      ]
     },
     "execution_count": 128,
     "metadata": {},
     "output_type": "execute_result"
    }
   ],
   "source": [
    "cv['test_roc_auc'].mean()"
   ]
  },
  {
   "cell_type": "code",
   "execution_count": 135,
   "id": "8fcace09-0c28-498e-86cb-691fca5954c8",
   "metadata": {},
   "outputs": [],
   "source": [
    "################################################\n",
    "# Feature Importance\n",
    "################################################"
   ]
  },
  {
   "cell_type": "code",
   "execution_count": 148,
   "id": "81786b70-eea0-43ee-8a87-de3b86950791",
   "metadata": {
    "collapsed": true,
    "jupyter": {
     "outputs_hidden": true
    },
    "tags": []
   },
   "outputs": [
    {
     "data": {
      "text/plain": [
       "array([0.        , 0.        , 0.        , 0.10812967, 0.01015232,\n",
       "       0.        , 0.01155735, 0.05577379, 0.        , 0.0661672 ,\n",
       "       0.00219545, 0.18728459, 0.        , 0.        , 0.        ,\n",
       "       0.        , 0.        , 0.        , 0.        , 0.        ,\n",
       "       0.        , 0.        , 0.        , 0.        , 0.        ,\n",
       "       0.        , 0.        , 0.00904261, 0.        , 0.01004554,\n",
       "       0.        , 0.02173869, 0.        , 0.        , 0.        ,\n",
       "       0.        , 0.        , 0.        , 0.        , 0.5179128 ,\n",
       "       0.        , 0.        , 0.        , 0.        ])"
      ]
     },
     "execution_count": 148,
     "metadata": {},
     "output_type": "execute_result"
    }
   ],
   "source": [
    "cart_final.feature_importances_"
   ]
  },
  {
   "cell_type": "code",
   "execution_count": 130,
   "id": "89550d80-d722-46ea-bc20-0299df5a8a98",
   "metadata": {},
   "outputs": [],
   "source": [
    "def plot_importance(model, features, num=len(X), save=False):\n",
    "    feature_imp = pd.DataFrame({'Value': model.feature_importances_, 'Feature': features.columns})\n",
    "    plt.figure(figsize=(10, 10))\n",
    "    sns.set(font_scale=1)\n",
    "    sns.barplot(x=\"Value\", y=\"Feature\", data=feature_imp.sort_values(by=\"Value\",\n",
    "                                                                     ascending=False)[0:num])\n",
    "    plt.title('Features')\n",
    "    plt.tight_layout()\n",
    "    plt.show()\n",
    "    if save:\n",
    "        plt.savefig('importances.png')"
   ]
  },
  {
   "cell_type": "code",
   "execution_count": 134,
   "id": "5ea6663a-9137-40bf-8883-8ea7752c8430",
   "metadata": {},
   "outputs": [
    {
     "data": {
      "image/png": "[encoded data removed]",
      "text/plain": [
       "<Figure size 720x720 with 1 Axes>"
      ]
     },
     "metadata": {},
     "output_type": "display_data"
    }
   ],
   "source": [
    "plot_importance(cart_final, X, num=10)"
   ]
  },
  {
   "cell_type": "code",
   "execution_count": 146,
   "id": "618c7368-6830-4131-969a-093c5bff2869",
   "metadata": {},
   "outputs": [],
   "source": [
    "################################################\n",
    "# Extracting Decision Rules\n",
    "################################################"
   ]
  },
  {
   "cell_type": "code",
   "execution_count": 147,
   "id": "81e565f1-8c2f-40f2-89f0-01a9d0615d26",
   "metadata": {},
   "outputs": [
    {
     "name": "stdout",
     "output_type": "stream",
     "text": [
      "|--- NEW_Engaged_1 <= 0.50\n",
      "|   |--- NEW_AVG_Service_Fee <= 17.12\n",
      "|   |   |--- tenure <= 5.50\n",
      "|   |   |   |--- NEW_AVG_Charges <= 33.37\n",
      "|   |   |   |   |--- TotalCharges <= 33.40\n",
      "|   |   |   |   |   |--- class: 0\n",
      "|   |   |   |   |--- TotalCharges >  33.40\n",
      "|   |   |   |   |   |--- class: 0\n",
      "|   |   |   |--- NEW_AVG_Charges >  33.37\n",
      "|   |   |   |   |--- NEW_AVG_Charges <= 44.03\n",
      "|   |   |   |   |   |--- class: 1\n",
      "|   |   |   |   |--- NEW_AVG_Charges >  44.03\n",
      "|   |   |   |   |   |--- class: 0\n",
      "|   |   |--- tenure >  5.50\n",
      "|   |   |   |--- MonthlyCharges <= 97.53\n",
      "|   |   |   |   |--- PhoneService <= 0.50\n",
      "|   |   |   |   |   |--- class: 0\n",
      "|   |   |   |   |--- PhoneService >  0.50\n",
      "|   |   |   |   |   |--- class: 0\n",
      "|   |   |   |--- MonthlyCharges >  97.53\n",
      "|   |   |   |   |--- TotalCharges <= 1626.08\n",
      "|   |   |   |   |   |--- class: 1\n",
      "|   |   |   |   |--- TotalCharges >  1626.08\n",
      "|   |   |   |   |   |--- class: 0\n",
      "|   |--- NEW_AVG_Service_Fee >  17.12\n",
      "|   |   |--- tenure <= 14.50\n",
      "|   |   |   |--- NEW_AVG_Charges <= 62.04\n",
      "|   |   |   |   |--- TotalCharges <= 272.10\n",
      "|   |   |   |   |   |--- class: 1\n",
      "|   |   |   |   |--- TotalCharges >  272.10\n",
      "|   |   |   |   |   |--- class: 0\n",
      "|   |   |   |--- NEW_AVG_Charges >  62.04\n",
      "|   |   |   |   |--- TotalCharges <= 132.85\n",
      "|   |   |   |   |   |--- class: 1\n",
      "|   |   |   |   |--- TotalCharges >  132.85\n",
      "|   |   |   |   |   |--- class: 1\n",
      "|   |   |--- tenure >  14.50\n",
      "|   |   |   |--- PaymentMethod_Electronic check <= 0.50\n",
      "|   |   |   |   |--- NEW_AVG_Charges <= 99.82\n",
      "|   |   |   |   |   |--- class: 0\n",
      "|   |   |   |   |--- NEW_AVG_Charges >  99.82\n",
      "|   |   |   |   |   |--- class: 1\n",
      "|   |   |   |--- PaymentMethod_Electronic check >  0.50\n",
      "|   |   |   |   |--- tenure <= 55.50\n",
      "|   |   |   |   |   |--- class: 1\n",
      "|   |   |   |   |--- tenure >  55.50\n",
      "|   |   |   |   |   |--- class: 0\n",
      "|--- NEW_Engaged_1 >  0.50\n",
      "|   |--- NEW_AVG_Service_Fee <= 14.78\n",
      "|   |   |--- Contract_Two year <= 0.50\n",
      "|   |   |   |--- TotalCharges <= 7465.40\n",
      "|   |   |   |   |--- StreamingMovies_Yes <= 0.50\n",
      "|   |   |   |   |   |--- class: 0\n",
      "|   |   |   |   |--- StreamingMovies_Yes >  0.50\n",
      "|   |   |   |   |   |--- class: 0\n",
      "|   |   |   |--- TotalCharges >  7465.40\n",
      "|   |   |   |   |--- NEW_AVG_Service_Fee <= 14.47\n",
      "|   |   |   |   |   |--- class: 1\n",
      "|   |   |   |   |--- NEW_AVG_Service_Fee >  14.47\n",
      "|   |   |   |   |   |--- class: 0\n",
      "|   |   |--- Contract_Two year >  0.50\n",
      "|   |   |   |--- NEW_AVG_Service_Fee <= 13.06\n",
      "|   |   |   |   |--- MonthlyCharges <= 92.42\n",
      "|   |   |   |   |   |--- class: 0\n",
      "|   |   |   |   |--- MonthlyCharges >  92.42\n",
      "|   |   |   |   |   |--- class: 0\n",
      "|   |   |   |--- NEW_AVG_Service_Fee >  13.06\n",
      "|   |   |   |   |--- NEW_AVG_Service_Fee <= 13.07\n",
      "|   |   |   |   |   |--- class: 0\n",
      "|   |   |   |   |--- NEW_AVG_Service_Fee >  13.07\n",
      "|   |   |   |   |   |--- class: 0\n",
      "|   |--- NEW_AVG_Service_Fee >  14.78\n",
      "|   |   |--- StreamingMovies_Yes <= 0.50\n",
      "|   |   |   |--- PaymentMethod_Electronic check <= 0.50\n",
      "|   |   |   |   |--- NEW_Increase <= 1.11\n",
      "|   |   |   |   |   |--- class: 0\n",
      "|   |   |   |   |--- NEW_Increase >  1.11\n",
      "|   |   |   |   |   |--- class: 1\n",
      "|   |   |   |--- PaymentMethod_Electronic check >  0.50\n",
      "|   |   |   |   |--- tenure <= 8.00\n",
      "|   |   |   |   |   |--- class: 1\n",
      "|   |   |   |   |--- tenure >  8.00\n",
      "|   |   |   |   |   |--- class: 0\n",
      "|   |   |--- StreamingMovies_Yes >  0.50\n",
      "|   |   |   |--- Contract_Two year <= 0.50\n",
      "|   |   |   |   |--- NEW_AVG_Charges <= 111.97\n",
      "|   |   |   |   |   |--- class: 0\n",
      "|   |   |   |   |--- NEW_AVG_Charges >  111.97\n",
      "|   |   |   |   |   |--- class: 1\n",
      "|   |   |   |--- Contract_Two year >  0.50\n",
      "|   |   |   |   |--- NEW_AVG_Charges <= 105.19\n",
      "|   |   |   |   |   |--- class: 0\n",
      "|   |   |   |   |--- NEW_AVG_Charges >  105.19\n",
      "|   |   |   |   |   |--- class: 0\n",
      "\n"
     ]
    }
   ],
   "source": [
    "tree_rules = export_text(cart_final, feature_names=list(X.columns))\n",
    "print(tree_rules)"
   ]
  },
  {
   "cell_type": "code",
   "execution_count": null,
   "id": "ab953334-d152-415e-b231-8574386fdee1",
   "metadata": {},
   "outputs": [],
   "source": []
  },
  {
   "cell_type": "code",
   "execution_count": null,
   "id": "b9a7362c-28d9-497b-8db4-de5d05fd0748",
   "metadata": {},
   "outputs": [],
   "source": []
  },
  {
   "cell_type": "code",
   "execution_count": null,
   "id": "47577493-6275-45eb-9300-39b7f2192e00",
   "metadata": {},
   "outputs": [],
   "source": []
  },
  {
   "cell_type": "code",
   "execution_count": null,
   "id": "9d58f169-ba86-4093-a1b8-823f6b17f7db",
   "metadata": {},
   "outputs": [],
   "source": []
  },
  {
   "cell_type": "code",
   "execution_count": null,
   "id": "acf594a4-6ee3-4584-80c3-804531499015",
   "metadata": {},
   "outputs": [],
   "source": []
  },
  {
   "cell_type": "code",
   "execution_count": null,
   "id": "f5a71fc2-76bd-48eb-862d-a2c851b2c324",
   "metadata": {},
   "outputs": [],
   "source": []
  },
  {
   "cell_type": "code",
   "execution_count": null,
   "id": "a7a1b939-a917-4ba1-ba05-fb039341c235",
   "metadata": {},
   "outputs": [],
   "source": []
  },
  {
   "cell_type": "code",
   "execution_count": null,
   "id": "489eec9d-bf56-4c4b-b3e5-619d0f912aec",
   "metadata": {},
   "outputs": [],
   "source": []
  },
  {
   "cell_type": "code",
   "execution_count": null,
   "id": "84adf6a9-565f-4d13-ba24-9b7acfe8b03f",
   "metadata": {},
   "outputs": [],
   "source": []
  },
  {
   "cell_type": "code",
   "execution_count": null,
   "id": "8d2effdd-b1d5-4a13-86a6-2f96d7baf7dd",
   "metadata": {},
   "outputs": [],
   "source": []
  },
  {
   "cell_type": "code",
   "execution_count": null,
   "id": "a93d8f8d-b1e5-4772-a78d-57fb959a8e94",
   "metadata": {},
   "outputs": [],
   "source": []
  },
  {
   "cell_type": "code",
   "execution_count": null,
   "id": "ab729b9a-204b-48b3-86f1-0382c8dfb867",
   "metadata": {},
   "outputs": [],
   "source": []
  }
 ],
 "metadata": {
  "kernelspec": {
   "display_name": "Python 3 (ipykernel)",
   "language": "python",
   "name": "python3"
  },
  "language_info": {
   "codemirror_mode": {
    "name": "ipython",
    "version": 3
   },
   "file_extension": ".py",
   "mimetype": "text/x-python",
   "name": "python",
   "nbconvert_exporter": "python",
   "pygments_lexer": "ipython3",
   "version": "3.9.7"
  }
 },
 "nbformat": 4,
 "nbformat_minor": 5
}
